{
 "cells": [
  {
   "cell_type": "markdown",
   "metadata": {
    "_cell_guid": "6b945f17-1234-4ed1-ae3b-6ace26f318e7",
    "_uuid": "25d0d369-10a6-47a3-9a73-467dcbf2feb8",
    "papermill": {
     "duration": 0.02059,
     "end_time": "2020-10-02T01:08:30.300789",
     "exception": false,
     "start_time": "2020-10-02T01:08:30.280199",
     "status": "completed"
    },
    "tags": []
   },
   "source": [
    "# Esse projeto tem como objetivo obter previsões sobre a economia brasileira para 2021, com base nos dados gerados ao longo dos 6 primeiros meses de 2020 sobre os seguintes índices: IPCA e Selic."
   ]
  },
  {
   "cell_type": "markdown",
   "metadata": {
    "_cell_guid": "0f57ad43-6bce-413e-be41-322301989f73",
    "_uuid": "48f24a7d-be9f-4302-b7b7-5a0d07448e5f",
    "papermill": {
     "duration": 0.018441,
     "end_time": "2020-10-02T01:08:30.338388",
     "exception": false,
     "start_time": "2020-10-02T01:08:30.319947",
     "status": "completed"
    },
    "tags": []
   },
   "source": [
    "Os dados foram retirados do site do Banco Central, na janela de séries temporais, nessa sessão é possível escrever o código, tema ou título de indicador econômico. Os dados estão datados desde 01/01/2020 até dia 30/09/2020. Irei fazer uma análise desses 9 meses corridos porém a previsão será feita considerando somente os 6 primeiros meses do ano e como teste para saber se o modelo foi eficiente em sua predição."
   ]
  },
  {
   "cell_type": "markdown",
   "metadata": {
    "_cell_guid": "61648086-08da-45ae-9438-7585f4ab2b66",
    "_uuid": "72369432-3b09-4265-b7a9-0454a0cbd488",
    "papermill": {
     "duration": 0.02103,
     "end_time": "2020-10-02T01:08:30.378077",
     "exception": false,
     "start_time": "2020-10-02T01:08:30.357047",
     "status": "completed"
    },
    "tags": []
   },
   "source": [
    "Vamos iniciar realizando as importações das bibliotecas necessárias:"
   ]
  },
  {
   "cell_type": "code",
   "execution_count": 1,
   "metadata": {
    "_cell_guid": "3a144487-96ca-4b39-8c96-89a489ce4020",
    "_uuid": "e7e0002b-20d2-401c-a59b-c9de8a71304c",
    "execution": {
     "iopub.execute_input": "2020-10-02T01:08:30.425479Z",
     "iopub.status.busy": "2020-10-02T01:08:30.424546Z",
     "iopub.status.idle": "2020-10-02T01:08:32.920046Z",
     "shell.execute_reply": "2020-10-02T01:08:32.920795Z"
    },
    "papermill": {
     "duration": 2.520991,
     "end_time": "2020-10-02T01:08:32.921054",
     "exception": false,
     "start_time": "2020-10-02T01:08:30.400063",
     "status": "completed"
    },
    "tags": []
   },
   "outputs": [],
   "source": [
    "import pandas as pd\n",
    "import numpy as np\n",
    "import matplotlib.pyplot as plt\n",
    "import seaborn as sns\n",
    "import plotly.express as px\n",
    "import plotly.graph_objects as go"
   ]
  },
  {
   "cell_type": "markdown",
   "metadata": {
    "_cell_guid": "9b93970a-0cf5-4757-abbb-c41d8b7be6d8",
    "_uuid": "70380dd8-7b9d-4a2a-9d8d-f836cb8dc8a4",
    "papermill": {
     "duration": 0.018514,
     "end_time": "2020-10-02T01:08:32.958912",
     "exception": false,
     "start_time": "2020-10-02T01:08:32.940398",
     "status": "completed"
    },
    "tags": []
   },
   "source": [
    "Agora carregar as bases de dados IPCA e Selic:"
   ]
  },
  {
   "cell_type": "code",
   "execution_count": 2,
   "metadata": {
    "_cell_guid": "37ceef4b-b864-47eb-ad3d-90feea7020db",
    "_uuid": "d7552da7-7dae-451a-afc1-65cb4c055368",
    "execution": {
     "iopub.execute_input": "2020-10-02T01:08:33.009957Z",
     "iopub.status.busy": "2020-10-02T01:08:33.009115Z",
     "iopub.status.idle": "2020-10-02T01:08:33.027543Z",
     "shell.execute_reply": "2020-10-02T01:08:33.026807Z"
    },
    "papermill": {
     "duration": 0.049186,
     "end_time": "2020-10-02T01:08:33.027733",
     "exception": false,
     "start_time": "2020-10-02T01:08:32.978547",
     "status": "completed"
    },
    "tags": []
   },
   "outputs": [],
   "source": [
    "ipca = pd.read_csv('../input/economia-brasileira/ipca.csv', sep = ';')\n",
    "selic = pd.read_csv('../input/economia-brasileira/taxa_selic.csv', sep = ';')"
   ]
  },
  {
   "cell_type": "code",
   "execution_count": 3,
   "metadata": {
    "_cell_guid": "e5eca01d-c309-4118-988b-d122158ac218",
    "_uuid": "f70eb15e-34d6-46cf-82b0-ceca77466aeb",
    "execution": {
     "iopub.execute_input": "2020-10-02T01:08:33.086598Z",
     "iopub.status.busy": "2020-10-02T01:08:33.085841Z",
     "iopub.status.idle": "2020-10-02T01:08:33.100715Z",
     "shell.execute_reply": "2020-10-02T01:08:33.100138Z"
    },
    "papermill": {
     "duration": 0.052971,
     "end_time": "2020-10-02T01:08:33.100858",
     "exception": false,
     "start_time": "2020-10-02T01:08:33.047887",
     "status": "completed"
    },
    "tags": []
   },
   "outputs": [
    {
     "data": {
      "text/html": [
       "<div>\n",
       "<style scoped>\n",
       "    .dataframe tbody tr th:only-of-type {\n",
       "        vertical-align: middle;\n",
       "    }\n",
       "\n",
       "    .dataframe tbody tr th {\n",
       "        vertical-align: top;\n",
       "    }\n",
       "\n",
       "    .dataframe thead th {\n",
       "        text-align: right;\n",
       "    }\n",
       "</style>\n",
       "<table border=\"1\" class=\"dataframe\">\n",
       "  <thead>\n",
       "    <tr style=\"text-align: right;\">\n",
       "      <th></th>\n",
       "      <th>Data</th>\n",
       "      <th>13522 - Índice nacional de preços ao consumidor - amplo (IPCA) - em 12 meses - %</th>\n",
       "    </tr>\n",
       "  </thead>\n",
       "  <tbody>\n",
       "    <tr>\n",
       "      <th>0</th>\n",
       "      <td>01/01/2020</td>\n",
       "      <td>4.19</td>\n",
       "    </tr>\n",
       "    <tr>\n",
       "      <th>1</th>\n",
       "      <td>01/02/2020</td>\n",
       "      <td>4.01</td>\n",
       "    </tr>\n",
       "    <tr>\n",
       "      <th>2</th>\n",
       "      <td>01/03/2020</td>\n",
       "      <td>3.30</td>\n",
       "    </tr>\n",
       "    <tr>\n",
       "      <th>3</th>\n",
       "      <td>01/04/2020</td>\n",
       "      <td>2.40</td>\n",
       "    </tr>\n",
       "    <tr>\n",
       "      <th>4</th>\n",
       "      <td>01/05/2020</td>\n",
       "      <td>1.88</td>\n",
       "    </tr>\n",
       "    <tr>\n",
       "      <th>5</th>\n",
       "      <td>01/06/2020</td>\n",
       "      <td>2.13</td>\n",
       "    </tr>\n",
       "    <tr>\n",
       "      <th>6</th>\n",
       "      <td>01/07/2020</td>\n",
       "      <td>2.31</td>\n",
       "    </tr>\n",
       "    <tr>\n",
       "      <th>7</th>\n",
       "      <td>01/08/2020</td>\n",
       "      <td>2.44</td>\n",
       "    </tr>\n",
       "  </tbody>\n",
       "</table>\n",
       "</div>"
      ],
      "text/plain": [
       "         Data  \\\n",
       "0  01/01/2020   \n",
       "1  01/02/2020   \n",
       "2  01/03/2020   \n",
       "3  01/04/2020   \n",
       "4  01/05/2020   \n",
       "5  01/06/2020   \n",
       "6  01/07/2020   \n",
       "7  01/08/2020   \n",
       "\n",
       "   13522 - Índice nacional de preços ao consumidor - amplo (IPCA) - em 12 meses - %  \n",
       "0                                               4.19                                 \n",
       "1                                               4.01                                 \n",
       "2                                               3.30                                 \n",
       "3                                               2.40                                 \n",
       "4                                               1.88                                 \n",
       "5                                               2.13                                 \n",
       "6                                               2.31                                 \n",
       "7                                               2.44                                 "
      ]
     },
     "execution_count": 3,
     "metadata": {},
     "output_type": "execute_result"
    }
   ],
   "source": [
    "ipca"
   ]
  },
  {
   "cell_type": "code",
   "execution_count": 4,
   "metadata": {
    "_cell_guid": "45f27145-ec55-4146-a8c4-2ecc96f715c2",
    "_uuid": "4813d030-a6c9-42e4-9855-3048f6e4c084",
    "execution": {
     "iopub.execute_input": "2020-10-02T01:08:33.158509Z",
     "iopub.status.busy": "2020-10-02T01:08:33.157238Z",
     "iopub.status.idle": "2020-10-02T01:08:33.162487Z",
     "shell.execute_reply": "2020-10-02T01:08:33.161872Z"
    },
    "papermill": {
     "duration": 0.039879,
     "end_time": "2020-10-02T01:08:33.162621",
     "exception": false,
     "start_time": "2020-10-02T01:08:33.122742",
     "status": "completed"
    },
    "tags": []
   },
   "outputs": [
    {
     "data": {
      "text/html": [
       "<div>\n",
       "<style scoped>\n",
       "    .dataframe tbody tr th:only-of-type {\n",
       "        vertical-align: middle;\n",
       "    }\n",
       "\n",
       "    .dataframe tbody tr th {\n",
       "        vertical-align: top;\n",
       "    }\n",
       "\n",
       "    .dataframe thead th {\n",
       "        text-align: right;\n",
       "    }\n",
       "</style>\n",
       "<table border=\"1\" class=\"dataframe\">\n",
       "  <thead>\n",
       "    <tr style=\"text-align: right;\">\n",
       "      <th></th>\n",
       "      <th>DateTime</th>\n",
       "      <th>Meta para taxa Selic</th>\n",
       "    </tr>\n",
       "  </thead>\n",
       "  <tbody>\n",
       "    <tr>\n",
       "      <th>0</th>\n",
       "      <td>01/01/2020</td>\n",
       "      <td>4.5</td>\n",
       "    </tr>\n",
       "    <tr>\n",
       "      <th>1</th>\n",
       "      <td>02/01/2020</td>\n",
       "      <td>4.5</td>\n",
       "    </tr>\n",
       "    <tr>\n",
       "      <th>2</th>\n",
       "      <td>03/01/2020</td>\n",
       "      <td>4.5</td>\n",
       "    </tr>\n",
       "    <tr>\n",
       "      <th>3</th>\n",
       "      <td>04/01/2020</td>\n",
       "      <td>4.5</td>\n",
       "    </tr>\n",
       "    <tr>\n",
       "      <th>4</th>\n",
       "      <td>05/01/2020</td>\n",
       "      <td>4.5</td>\n",
       "    </tr>\n",
       "    <tr>\n",
       "      <th>...</th>\n",
       "      <td>...</td>\n",
       "      <td>...</td>\n",
       "    </tr>\n",
       "    <tr>\n",
       "      <th>270</th>\n",
       "      <td>27/09/2020</td>\n",
       "      <td>2.0</td>\n",
       "    </tr>\n",
       "    <tr>\n",
       "      <th>271</th>\n",
       "      <td>28/09/2020</td>\n",
       "      <td>2.0</td>\n",
       "    </tr>\n",
       "    <tr>\n",
       "      <th>272</th>\n",
       "      <td>29/09/2020</td>\n",
       "      <td>2.0</td>\n",
       "    </tr>\n",
       "    <tr>\n",
       "      <th>273</th>\n",
       "      <td>30/09/2020</td>\n",
       "      <td>2.0</td>\n",
       "    </tr>\n",
       "    <tr>\n",
       "      <th>274</th>\n",
       "      <td>01/10/2020</td>\n",
       "      <td>2.0</td>\n",
       "    </tr>\n",
       "  </tbody>\n",
       "</table>\n",
       "<p>275 rows × 2 columns</p>\n",
       "</div>"
      ],
      "text/plain": [
       "       DateTime  Meta para taxa Selic\n",
       "0    01/01/2020                   4.5\n",
       "1    02/01/2020                   4.5\n",
       "2    03/01/2020                   4.5\n",
       "3    04/01/2020                   4.5\n",
       "4    05/01/2020                   4.5\n",
       "..          ...                   ...\n",
       "270  27/09/2020                   2.0\n",
       "271  28/09/2020                   2.0\n",
       "272  29/09/2020                   2.0\n",
       "273  30/09/2020                   2.0\n",
       "274  01/10/2020                   2.0\n",
       "\n",
       "[275 rows x 2 columns]"
      ]
     },
     "execution_count": 4,
     "metadata": {},
     "output_type": "execute_result"
    }
   ],
   "source": [
    "selic"
   ]
  },
  {
   "cell_type": "markdown",
   "metadata": {
    "_cell_guid": "f4f499b5-e312-481b-be1f-9aaed12f71a2",
    "_uuid": "2ab23506-e381-400a-9a86-985d753f2806",
    "papermill": {
     "duration": 0.021116,
     "end_time": "2020-10-02T01:08:33.205816",
     "exception": false,
     "start_time": "2020-10-02T01:08:33.184700",
     "status": "completed"
    },
    "tags": []
   },
   "source": [
    "Por questões estéticas irei alterar o nome das colunas, assim ficará melhor de visualizar:"
   ]
  },
  {
   "cell_type": "code",
   "execution_count": 5,
   "metadata": {
    "_cell_guid": "8b1eada3-1636-44b6-80f4-296a780697fc",
    "_uuid": "e56accac-ef4a-40cf-b651-74e770f073c5",
    "execution": {
     "iopub.execute_input": "2020-10-02T01:08:33.256307Z",
     "iopub.status.busy": "2020-10-02T01:08:33.255261Z",
     "iopub.status.idle": "2020-10-02T01:08:33.258715Z",
     "shell.execute_reply": "2020-10-02T01:08:33.258084Z"
    },
    "papermill": {
     "duration": 0.033058,
     "end_time": "2020-10-02T01:08:33.258838",
     "exception": false,
     "start_time": "2020-10-02T01:08:33.225780",
     "status": "completed"
    },
    "tags": []
   },
   "outputs": [],
   "source": [
    "ipca = ipca.rename(columns={'13522 - Índice nacional de preços ao consumidor - amplo (IPCA) - em 12 meses - %': 'IPCA'})\n",
    "selic = selic.rename(columns={'Meta para taxa Selic': 'Selic'})"
   ]
  },
  {
   "cell_type": "code",
   "execution_count": 6,
   "metadata": {
    "_cell_guid": "d717d7cf-33ee-4011-8664-caf6d3740952",
    "_uuid": "b9695d0e-25e7-4edb-b683-e7cb19bfd3b4",
    "execution": {
     "iopub.execute_input": "2020-10-02T01:08:33.310325Z",
     "iopub.status.busy": "2020-10-02T01:08:33.309293Z",
     "iopub.status.idle": "2020-10-02T01:08:33.314053Z",
     "shell.execute_reply": "2020-10-02T01:08:33.313372Z"
    },
    "papermill": {
     "duration": 0.034466,
     "end_time": "2020-10-02T01:08:33.314174",
     "exception": false,
     "start_time": "2020-10-02T01:08:33.279708",
     "status": "completed"
    },
    "tags": []
   },
   "outputs": [
    {
     "data": {
      "text/html": [
       "<div>\n",
       "<style scoped>\n",
       "    .dataframe tbody tr th:only-of-type {\n",
       "        vertical-align: middle;\n",
       "    }\n",
       "\n",
       "    .dataframe tbody tr th {\n",
       "        vertical-align: top;\n",
       "    }\n",
       "\n",
       "    .dataframe thead th {\n",
       "        text-align: right;\n",
       "    }\n",
       "</style>\n",
       "<table border=\"1\" class=\"dataframe\">\n",
       "  <thead>\n",
       "    <tr style=\"text-align: right;\">\n",
       "      <th></th>\n",
       "      <th>Data</th>\n",
       "      <th>IPCA</th>\n",
       "    </tr>\n",
       "  </thead>\n",
       "  <tbody>\n",
       "    <tr>\n",
       "      <th>0</th>\n",
       "      <td>01/01/2020</td>\n",
       "      <td>4.19</td>\n",
       "    </tr>\n",
       "    <tr>\n",
       "      <th>1</th>\n",
       "      <td>01/02/2020</td>\n",
       "      <td>4.01</td>\n",
       "    </tr>\n",
       "    <tr>\n",
       "      <th>2</th>\n",
       "      <td>01/03/2020</td>\n",
       "      <td>3.30</td>\n",
       "    </tr>\n",
       "    <tr>\n",
       "      <th>3</th>\n",
       "      <td>01/04/2020</td>\n",
       "      <td>2.40</td>\n",
       "    </tr>\n",
       "    <tr>\n",
       "      <th>4</th>\n",
       "      <td>01/05/2020</td>\n",
       "      <td>1.88</td>\n",
       "    </tr>\n",
       "    <tr>\n",
       "      <th>5</th>\n",
       "      <td>01/06/2020</td>\n",
       "      <td>2.13</td>\n",
       "    </tr>\n",
       "    <tr>\n",
       "      <th>6</th>\n",
       "      <td>01/07/2020</td>\n",
       "      <td>2.31</td>\n",
       "    </tr>\n",
       "    <tr>\n",
       "      <th>7</th>\n",
       "      <td>01/08/2020</td>\n",
       "      <td>2.44</td>\n",
       "    </tr>\n",
       "  </tbody>\n",
       "</table>\n",
       "</div>"
      ],
      "text/plain": [
       "         Data  IPCA\n",
       "0  01/01/2020  4.19\n",
       "1  01/02/2020  4.01\n",
       "2  01/03/2020  3.30\n",
       "3  01/04/2020  2.40\n",
       "4  01/05/2020  1.88\n",
       "5  01/06/2020  2.13\n",
       "6  01/07/2020  2.31\n",
       "7  01/08/2020  2.44"
      ]
     },
     "execution_count": 6,
     "metadata": {},
     "output_type": "execute_result"
    }
   ],
   "source": [
    "ipca"
   ]
  },
  {
   "cell_type": "code",
   "execution_count": 7,
   "metadata": {
    "_cell_guid": "c6c0fa99-3b70-4898-a2bf-91209d1295bf",
    "_uuid": "b587537c-3296-4846-8a5d-aefe1f096065",
    "execution": {
     "iopub.execute_input": "2020-10-02T01:08:33.370227Z",
     "iopub.status.busy": "2020-10-02T01:08:33.369069Z",
     "iopub.status.idle": "2020-10-02T01:08:33.373720Z",
     "shell.execute_reply": "2020-10-02T01:08:33.373134Z"
    },
    "papermill": {
     "duration": 0.038352,
     "end_time": "2020-10-02T01:08:33.373837",
     "exception": false,
     "start_time": "2020-10-02T01:08:33.335485",
     "status": "completed"
    },
    "tags": []
   },
   "outputs": [
    {
     "data": {
      "text/html": [
       "<div>\n",
       "<style scoped>\n",
       "    .dataframe tbody tr th:only-of-type {\n",
       "        vertical-align: middle;\n",
       "    }\n",
       "\n",
       "    .dataframe tbody tr th {\n",
       "        vertical-align: top;\n",
       "    }\n",
       "\n",
       "    .dataframe thead th {\n",
       "        text-align: right;\n",
       "    }\n",
       "</style>\n",
       "<table border=\"1\" class=\"dataframe\">\n",
       "  <thead>\n",
       "    <tr style=\"text-align: right;\">\n",
       "      <th></th>\n",
       "      <th>DateTime</th>\n",
       "      <th>Selic</th>\n",
       "    </tr>\n",
       "  </thead>\n",
       "  <tbody>\n",
       "    <tr>\n",
       "      <th>0</th>\n",
       "      <td>01/01/2020</td>\n",
       "      <td>4.5</td>\n",
       "    </tr>\n",
       "    <tr>\n",
       "      <th>1</th>\n",
       "      <td>02/01/2020</td>\n",
       "      <td>4.5</td>\n",
       "    </tr>\n",
       "    <tr>\n",
       "      <th>2</th>\n",
       "      <td>03/01/2020</td>\n",
       "      <td>4.5</td>\n",
       "    </tr>\n",
       "    <tr>\n",
       "      <th>3</th>\n",
       "      <td>04/01/2020</td>\n",
       "      <td>4.5</td>\n",
       "    </tr>\n",
       "    <tr>\n",
       "      <th>4</th>\n",
       "      <td>05/01/2020</td>\n",
       "      <td>4.5</td>\n",
       "    </tr>\n",
       "    <tr>\n",
       "      <th>...</th>\n",
       "      <td>...</td>\n",
       "      <td>...</td>\n",
       "    </tr>\n",
       "    <tr>\n",
       "      <th>270</th>\n",
       "      <td>27/09/2020</td>\n",
       "      <td>2.0</td>\n",
       "    </tr>\n",
       "    <tr>\n",
       "      <th>271</th>\n",
       "      <td>28/09/2020</td>\n",
       "      <td>2.0</td>\n",
       "    </tr>\n",
       "    <tr>\n",
       "      <th>272</th>\n",
       "      <td>29/09/2020</td>\n",
       "      <td>2.0</td>\n",
       "    </tr>\n",
       "    <tr>\n",
       "      <th>273</th>\n",
       "      <td>30/09/2020</td>\n",
       "      <td>2.0</td>\n",
       "    </tr>\n",
       "    <tr>\n",
       "      <th>274</th>\n",
       "      <td>01/10/2020</td>\n",
       "      <td>2.0</td>\n",
       "    </tr>\n",
       "  </tbody>\n",
       "</table>\n",
       "<p>275 rows × 2 columns</p>\n",
       "</div>"
      ],
      "text/plain": [
       "       DateTime  Selic\n",
       "0    01/01/2020    4.5\n",
       "1    02/01/2020    4.5\n",
       "2    03/01/2020    4.5\n",
       "3    04/01/2020    4.5\n",
       "4    05/01/2020    4.5\n",
       "..          ...    ...\n",
       "270  27/09/2020    2.0\n",
       "271  28/09/2020    2.0\n",
       "272  29/09/2020    2.0\n",
       "273  30/09/2020    2.0\n",
       "274  01/10/2020    2.0\n",
       "\n",
       "[275 rows x 2 columns]"
      ]
     },
     "execution_count": 7,
     "metadata": {},
     "output_type": "execute_result"
    }
   ],
   "source": [
    "selic"
   ]
  },
  {
   "cell_type": "markdown",
   "metadata": {
    "_cell_guid": "a24b5726-c03b-4855-8bb4-d874ab1b7931",
    "_uuid": "550f719b-c2b4-4e1e-abfa-fa5b3c82ae89",
    "papermill": {
     "duration": 0.021065,
     "end_time": "2020-10-02T01:08:33.416386",
     "exception": false,
     "start_time": "2020-10-02T01:08:33.395321",
     "status": "completed"
    },
    "tags": []
   },
   "source": [
    "Vamos analisar separadamente os indicadores, fazendo uma análise de cada um deles e fazendo um paralelo com políticas adotadas nesses últimos 6 meses e suas reflexões na economia nacional e internacional. Começando pela Taxa Básica de Juros, a Selic:"
   ]
  },
  {
   "cell_type": "code",
   "execution_count": 8,
   "metadata": {
    "_cell_guid": "3bc2493e-a8cb-47e0-8352-885b01feff1c",
    "_uuid": "00357aad-ae04-4936-8fd1-e430e1e318e1",
    "execution": {
     "iopub.execute_input": "2020-10-02T01:08:33.465143Z",
     "iopub.status.busy": "2020-10-02T01:08:33.464402Z",
     "iopub.status.idle": "2020-10-02T01:08:33.666206Z",
     "shell.execute_reply": "2020-10-02T01:08:33.665447Z"
    },
    "papermill": {
     "duration": 0.22885,
     "end_time": "2020-10-02T01:08:33.666350",
     "exception": false,
     "start_time": "2020-10-02T01:08:33.437500",
     "status": "completed"
    },
    "tags": []
   },
   "outputs": [
    {
     "data": {
      "text/html": [
       "        <script type=\"text/javascript\">\n",
       "        window.PlotlyConfig = {MathJaxConfig: 'local'};\n",
       "        if (window.MathJax) {MathJax.Hub.Config({SVG: {font: \"STIX-Web\"}});}\n",
       "        if (typeof require !== 'undefined') {\n",
       "        require.undef(\"plotly\");\n",
       "        requirejs.config({\n",
       "            paths: {\n",
       "                'plotly': ['https://cdn.plot.ly/plotly-latest.min']\n",
       "            }\n",
       "        });\n",
       "        require(['plotly'], function(Plotly) {\n",
       "            window._Plotly = Plotly;\n",
       "        });\n",
       "        }\n",
       "        </script>\n",
       "        "
      ]
     },
     "metadata": {},
     "output_type": "display_data"
    },
    {
     "data": {
      "text/html": [
       "<div>                            <div id=\"6b2abbe8-e23f-40c7-b43c-97e91c493075\" class=\"plotly-graph-div\" style=\"height:525px; width:100%;\"></div>            <script type=\"text/javascript\">                require([\"plotly\"], function(Plotly) {                    window.PLOTLYENV=window.PLOTLYENV || {};                                    if (document.getElementById(\"6b2abbe8-e23f-40c7-b43c-97e91c493075\")) {                    Plotly.newPlot(                        \"6b2abbe8-e23f-40c7-b43c-97e91c493075\",                        [{\"name\": \"Taxa Selic\", \"type\": \"scatter\", \"x\": [\"01/01/2020\", \"02/01/2020\", \"03/01/2020\", \"04/01/2020\", \"05/01/2020\", \"06/01/2020\", \"07/01/2020\", \"08/01/2020\", \"09/01/2020\", \"10/01/2020\", \"11/01/2020\", \"12/01/2020\", \"13/01/2020\", \"14/01/2020\", \"15/01/2020\", \"16/01/2020\", \"17/01/2020\", \"18/01/2020\", \"19/01/2020\", \"20/01/2020\", \"21/01/2020\", \"22/01/2020\", \"23/01/2020\", \"24/01/2020\", \"25/01/2020\", \"26/01/2020\", \"27/01/2020\", \"28/01/2020\", \"29/01/2020\", \"30/01/2020\", \"31/01/2020\", \"01/02/2020\", \"02/02/2020\", \"03/02/2020\", \"04/02/2020\", \"05/02/2020\", \"06/02/2020\", \"07/02/2020\", \"08/02/2020\", \"09/02/2020\", \"10/02/2020\", \"11/02/2020\", \"12/02/2020\", \"13/02/2020\", \"14/02/2020\", \"15/02/2020\", \"16/02/2020\", \"17/02/2020\", \"18/02/2020\", \"19/02/2020\", \"20/02/2020\", \"21/02/2020\", \"22/02/2020\", \"23/02/2020\", \"24/02/2020\", \"25/02/2020\", \"26/02/2020\", \"27/02/2020\", \"28/02/2020\", \"29/02/2020\", \"01/03/2020\", \"02/03/2020\", \"03/03/2020\", \"04/03/2020\", \"05/03/2020\", \"06/03/2020\", \"07/03/2020\", \"08/03/2020\", \"09/03/2020\", \"10/03/2020\", \"11/03/2020\", \"12/03/2020\", \"13/03/2020\", \"14/03/2020\", \"15/03/2020\", \"16/03/2020\", \"17/03/2020\", \"18/03/2020\", \"19/03/2020\", \"20/03/2020\", \"21/03/2020\", \"22/03/2020\", \"23/03/2020\", \"24/03/2020\", \"25/03/2020\", \"26/03/2020\", \"27/03/2020\", \"28/03/2020\", \"29/03/2020\", \"30/03/2020\", \"31/03/2020\", \"01/04/2020\", \"02/04/2020\", \"03/04/2020\", \"04/04/2020\", \"05/04/2020\", \"06/04/2020\", \"07/04/2020\", \"08/04/2020\", \"09/04/2020\", \"10/04/2020\", \"11/04/2020\", \"12/04/2020\", \"13/04/2020\", \"14/04/2020\", \"15/04/2020\", \"16/04/2020\", \"17/04/2020\", \"18/04/2020\", \"19/04/2020\", \"20/04/2020\", \"21/04/2020\", \"22/04/2020\", \"23/04/2020\", \"24/04/2020\", \"25/04/2020\", \"26/04/2020\", \"27/04/2020\", \"28/04/2020\", \"29/04/2020\", \"30/04/2020\", \"01/05/2020\", \"02/05/2020\", \"03/05/2020\", \"04/05/2020\", \"05/05/2020\", \"06/05/2020\", \"07/05/2020\", \"08/05/2020\", \"09/05/2020\", \"10/05/2020\", \"11/05/2020\", \"12/05/2020\", \"13/05/2020\", \"14/05/2020\", \"15/05/2020\", \"16/05/2020\", \"17/05/2020\", \"18/05/2020\", \"19/05/2020\", \"20/05/2020\", \"21/05/2020\", \"22/05/2020\", \"23/05/2020\", \"24/05/2020\", \"25/05/2020\", \"26/05/2020\", \"27/05/2020\", \"28/05/2020\", \"29/05/2020\", \"30/05/2020\", \"31/05/2020\", \"01/06/2020\", \"02/06/2020\", \"03/06/2020\", \"04/06/2020\", \"05/06/2020\", \"06/06/2020\", \"07/06/2020\", \"08/06/2020\", \"09/06/2020\", \"10/06/2020\", \"11/06/2020\", \"12/06/2020\", \"13/06/2020\", \"14/06/2020\", \"15/06/2020\", \"16/06/2020\", \"17/06/2020\", \"18/06/2020\", \"19/06/2020\", \"20/06/2020\", \"21/06/2020\", \"22/06/2020\", \"23/06/2020\", \"24/06/2020\", \"25/06/2020\", \"26/06/2020\", \"27/06/2020\", \"28/06/2020\", \"29/06/2020\", \"30/06/2020\", \"01/07/2020\", \"02/07/2020\", \"03/07/2020\", \"04/07/2020\", \"05/07/2020\", \"06/07/2020\", \"07/07/2020\", \"08/07/2020\", \"09/07/2020\", \"10/07/2020\", \"11/07/2020\", \"12/07/2020\", \"13/07/2020\", \"14/07/2020\", \"15/07/2020\", \"16/07/2020\", \"17/07/2020\", \"18/07/2020\", \"19/07/2020\", \"20/07/2020\", \"21/07/2020\", \"22/07/2020\", \"23/07/2020\", \"24/07/2020\", \"25/07/2020\", \"26/07/2020\", \"27/07/2020\", \"28/07/2020\", \"29/07/2020\", \"30/07/2020\", \"31/07/2020\", \"01/08/2020\", \"02/08/2020\", \"03/08/2020\", \"04/08/2020\", \"05/08/2020\", \"06/08/2020\", \"07/08/2020\", \"08/08/2020\", \"09/08/2020\", \"10/08/2020\", \"11/08/2020\", \"12/08/2020\", \"13/08/2020\", \"14/08/2020\", \"15/08/2020\", \"16/08/2020\", \"17/08/2020\", \"18/08/2020\", \"19/08/2020\", \"20/08/2020\", \"21/08/2020\", \"22/08/2020\", \"23/08/2020\", \"24/08/2020\", \"25/08/2020\", \"26/08/2020\", \"27/08/2020\", \"28/08/2020\", \"29/08/2020\", \"30/08/2020\", \"31/08/2020\", \"01/09/2020\", \"02/09/2020\", \"03/09/2020\", \"04/09/2020\", \"05/09/2020\", \"06/09/2020\", \"07/09/2020\", \"08/09/2020\", \"09/09/2020\", \"10/09/2020\", \"11/09/2020\", \"12/09/2020\", \"13/09/2020\", \"14/09/2020\", \"15/09/2020\", \"16/09/2020\", \"17/09/2020\", \"18/09/2020\", \"19/09/2020\", \"20/09/2020\", \"21/09/2020\", \"22/09/2020\", \"23/09/2020\", \"24/09/2020\", \"25/09/2020\", \"26/09/2020\", \"27/09/2020\", \"28/09/2020\", \"29/09/2020\", \"30/09/2020\", \"01/10/2020\"], \"y\": [4.5, 4.5, 4.5, 4.5, 4.5, 4.5, 4.5, 4.5, 4.5, 4.5, 4.5, 4.5, 4.5, 4.5, 4.5, 4.5, 4.5, 4.5, 4.5, 4.5, 4.5, 4.5, 4.5, 4.5, 4.5, 4.5, 4.5, 4.5, 4.5, 4.5, 4.5, 4.5, 4.5, 4.5, 4.5, 4.5, 4.25, 4.25, 4.25, 4.25, 4.25, 4.25, 4.25, 4.25, 4.25, 4.25, 4.25, 4.25, 4.25, 4.25, 4.25, 4.25, 4.25, 4.25, 4.25, 4.25, 4.25, 4.25, 4.25, 4.25, 4.25, 4.25, 4.25, 4.25, 4.25, 4.25, 4.25, 4.25, 4.25, 4.25, 4.25, 4.25, 4.25, 4.25, 4.25, 4.25, 4.25, 4.25, 3.75, 3.75, 3.75, 3.75, 3.75, 3.75, 3.75, 3.75, 3.75, 3.75, 3.75, 3.75, 3.75, 3.75, 3.75, 3.75, 3.75, 3.75, 3.75, 3.75, 3.75, 3.75, 3.75, 3.75, 3.75, 3.75, 3.75, 3.75, 3.75, 3.75, 3.75, 3.75, 3.75, 3.75, 3.75, 3.75, 3.75, 3.75, 3.75, 3.75, 3.75, 3.75, 3.75, 3.75, 3.75, 3.75, 3.75, 3.75, 3.75, 3.0, 3.0, 3.0, 3.0, 3.0, 3.0, 3.0, 3.0, 3.0, 3.0, 3.0, 3.0, 3.0, 3.0, 3.0, 3.0, 3.0, 3.0, 3.0, 3.0, 3.0, 3.0, 3.0, 3.0, 3.0, 3.0, 3.0, 3.0, 3.0, 3.0, 3.0, 3.0, 3.0, 3.0, 3.0, 3.0, 3.0, 3.0, 3.0, 3.0, 3.0, 3.0, 2.25, 2.25, 2.25, 2.25, 2.25, 2.25, 2.25, 2.25, 2.25, 2.25, 2.25, 2.25, 2.25, 2.25, 2.25, 2.25, 2.25, 2.25, 2.25, 2.25, 2.25, 2.25, 2.25, 2.25, 2.25, 2.25, 2.25, 2.25, 2.25, 2.25, 2.25, 2.25, 2.25, 2.25, 2.25, 2.25, 2.25, 2.25, 2.25, 2.25, 2.25, 2.25, 2.25, 2.25, 2.25, 2.25, 2.25, 2.25, 2.25, 2.0, 2.0, 2.0, 2.0, 2.0, 2.0, 2.0, 2.0, 2.0, 2.0, 2.0, 2.0, 2.0, 2.0, 2.0, 2.0, 2.0, 2.0, 2.0, 2.0, 2.0, 2.0, 2.0, 2.0, 2.0, 2.0, 2.0, 2.0, 2.0, 2.0, 2.0, 2.0, 2.0, 2.0, 2.0, 2.0, 2.0, 2.0, 2.0, 2.0, 2.0, 2.0, 2.0, 2.0, 2.0, 2.0, 2.0, 2.0, 2.0, 2.0, 2.0, 2.0, 2.0, 2.0, 2.0, 2.0, 2.0]}],                        {\"template\": {\"data\": {\"bar\": [{\"error_x\": {\"color\": \"#2a3f5f\"}, \"error_y\": {\"color\": \"#2a3f5f\"}, \"marker\": {\"line\": {\"color\": \"#E5ECF6\", \"width\": 0.5}}, \"type\": \"bar\"}], \"barpolar\": [{\"marker\": {\"line\": {\"color\": \"#E5ECF6\", \"width\": 0.5}}, \"type\": \"barpolar\"}], \"carpet\": [{\"aaxis\": {\"endlinecolor\": \"#2a3f5f\", \"gridcolor\": \"white\", \"linecolor\": \"white\", \"minorgridcolor\": \"white\", \"startlinecolor\": \"#2a3f5f\"}, \"baxis\": {\"endlinecolor\": \"#2a3f5f\", \"gridcolor\": \"white\", \"linecolor\": \"white\", \"minorgridcolor\": \"white\", \"startlinecolor\": \"#2a3f5f\"}, \"type\": \"carpet\"}], \"choropleth\": [{\"colorbar\": {\"outlinewidth\": 0, \"ticks\": \"\"}, \"type\": \"choropleth\"}], \"contour\": [{\"colorbar\": {\"outlinewidth\": 0, \"ticks\": \"\"}, \"colorscale\": [[0.0, \"#0d0887\"], [0.1111111111111111, \"#46039f\"], [0.2222222222222222, \"#7201a8\"], [0.3333333333333333, \"#9c179e\"], [0.4444444444444444, \"#bd3786\"], [0.5555555555555556, \"#d8576b\"], [0.6666666666666666, \"#ed7953\"], [0.7777777777777778, \"#fb9f3a\"], [0.8888888888888888, \"#fdca26\"], [1.0, \"#f0f921\"]], \"type\": \"contour\"}], \"contourcarpet\": [{\"colorbar\": {\"outlinewidth\": 0, \"ticks\": \"\"}, \"type\": \"contourcarpet\"}], \"heatmap\": [{\"colorbar\": {\"outlinewidth\": 0, \"ticks\": \"\"}, \"colorscale\": [[0.0, \"#0d0887\"], [0.1111111111111111, \"#46039f\"], [0.2222222222222222, \"#7201a8\"], [0.3333333333333333, \"#9c179e\"], [0.4444444444444444, \"#bd3786\"], [0.5555555555555556, \"#d8576b\"], [0.6666666666666666, \"#ed7953\"], [0.7777777777777778, \"#fb9f3a\"], [0.8888888888888888, \"#fdca26\"], [1.0, \"#f0f921\"]], \"type\": \"heatmap\"}], \"heatmapgl\": [{\"colorbar\": {\"outlinewidth\": 0, \"ticks\": \"\"}, \"colorscale\": [[0.0, \"#0d0887\"], [0.1111111111111111, \"#46039f\"], [0.2222222222222222, \"#7201a8\"], [0.3333333333333333, \"#9c179e\"], [0.4444444444444444, \"#bd3786\"], [0.5555555555555556, \"#d8576b\"], [0.6666666666666666, \"#ed7953\"], [0.7777777777777778, \"#fb9f3a\"], [0.8888888888888888, \"#fdca26\"], [1.0, \"#f0f921\"]], \"type\": \"heatmapgl\"}], \"histogram\": [{\"marker\": {\"colorbar\": {\"outlinewidth\": 0, \"ticks\": \"\"}}, \"type\": \"histogram\"}], \"histogram2d\": [{\"colorbar\": {\"outlinewidth\": 0, \"ticks\": \"\"}, \"colorscale\": [[0.0, \"#0d0887\"], [0.1111111111111111, \"#46039f\"], [0.2222222222222222, \"#7201a8\"], [0.3333333333333333, \"#9c179e\"], [0.4444444444444444, \"#bd3786\"], [0.5555555555555556, \"#d8576b\"], [0.6666666666666666, \"#ed7953\"], [0.7777777777777778, \"#fb9f3a\"], [0.8888888888888888, \"#fdca26\"], [1.0, \"#f0f921\"]], \"type\": \"histogram2d\"}], \"histogram2dcontour\": [{\"colorbar\": {\"outlinewidth\": 0, \"ticks\": \"\"}, \"colorscale\": [[0.0, \"#0d0887\"], [0.1111111111111111, \"#46039f\"], [0.2222222222222222, \"#7201a8\"], [0.3333333333333333, \"#9c179e\"], [0.4444444444444444, \"#bd3786\"], [0.5555555555555556, \"#d8576b\"], [0.6666666666666666, \"#ed7953\"], [0.7777777777777778, \"#fb9f3a\"], [0.8888888888888888, \"#fdca26\"], [1.0, \"#f0f921\"]], \"type\": \"histogram2dcontour\"}], \"mesh3d\": [{\"colorbar\": {\"outlinewidth\": 0, \"ticks\": \"\"}, \"type\": \"mesh3d\"}], \"parcoords\": [{\"line\": {\"colorbar\": {\"outlinewidth\": 0, \"ticks\": \"\"}}, \"type\": \"parcoords\"}], \"pie\": [{\"automargin\": true, \"type\": \"pie\"}], \"scatter\": [{\"marker\": {\"colorbar\": {\"outlinewidth\": 0, \"ticks\": \"\"}}, \"type\": \"scatter\"}], \"scatter3d\": [{\"line\": {\"colorbar\": {\"outlinewidth\": 0, \"ticks\": \"\"}}, \"marker\": {\"colorbar\": {\"outlinewidth\": 0, \"ticks\": \"\"}}, \"type\": \"scatter3d\"}], \"scattercarpet\": [{\"marker\": {\"colorbar\": {\"outlinewidth\": 0, \"ticks\": \"\"}}, \"type\": \"scattercarpet\"}], \"scattergeo\": [{\"marker\": {\"colorbar\": {\"outlinewidth\": 0, \"ticks\": \"\"}}, \"type\": \"scattergeo\"}], \"scattergl\": [{\"marker\": {\"colorbar\": {\"outlinewidth\": 0, \"ticks\": \"\"}}, \"type\": \"scattergl\"}], \"scattermapbox\": [{\"marker\": {\"colorbar\": {\"outlinewidth\": 0, \"ticks\": \"\"}}, \"type\": \"scattermapbox\"}], \"scatterpolar\": [{\"marker\": {\"colorbar\": {\"outlinewidth\": 0, \"ticks\": \"\"}}, \"type\": \"scatterpolar\"}], \"scatterpolargl\": [{\"marker\": {\"colorbar\": {\"outlinewidth\": 0, \"ticks\": \"\"}}, \"type\": \"scatterpolargl\"}], \"scatterternary\": [{\"marker\": {\"colorbar\": {\"outlinewidth\": 0, \"ticks\": \"\"}}, \"type\": \"scatterternary\"}], \"surface\": [{\"colorbar\": {\"outlinewidth\": 0, \"ticks\": \"\"}, \"colorscale\": [[0.0, \"#0d0887\"], [0.1111111111111111, \"#46039f\"], [0.2222222222222222, \"#7201a8\"], [0.3333333333333333, \"#9c179e\"], [0.4444444444444444, \"#bd3786\"], [0.5555555555555556, \"#d8576b\"], [0.6666666666666666, \"#ed7953\"], [0.7777777777777778, \"#fb9f3a\"], [0.8888888888888888, \"#fdca26\"], [1.0, \"#f0f921\"]], \"type\": \"surface\"}], \"table\": [{\"cells\": {\"fill\": {\"color\": \"#EBF0F8\"}, \"line\": {\"color\": \"white\"}}, \"header\": {\"fill\": {\"color\": \"#C8D4E3\"}, \"line\": {\"color\": \"white\"}}, \"type\": \"table\"}]}, \"layout\": {\"annotationdefaults\": {\"arrowcolor\": \"#2a3f5f\", \"arrowhead\": 0, \"arrowwidth\": 1}, \"coloraxis\": {\"colorbar\": {\"outlinewidth\": 0, \"ticks\": \"\"}}, \"colorscale\": {\"diverging\": [[0, \"#8e0152\"], [0.1, \"#c51b7d\"], [0.2, \"#de77ae\"], [0.3, \"#f1b6da\"], [0.4, \"#fde0ef\"], [0.5, \"#f7f7f7\"], [0.6, \"#e6f5d0\"], [0.7, \"#b8e186\"], [0.8, \"#7fbc41\"], [0.9, \"#4d9221\"], [1, \"#276419\"]], \"sequential\": [[0.0, \"#0d0887\"], [0.1111111111111111, \"#46039f\"], [0.2222222222222222, \"#7201a8\"], [0.3333333333333333, \"#9c179e\"], [0.4444444444444444, \"#bd3786\"], [0.5555555555555556, \"#d8576b\"], [0.6666666666666666, \"#ed7953\"], [0.7777777777777778, \"#fb9f3a\"], [0.8888888888888888, \"#fdca26\"], [1.0, \"#f0f921\"]], \"sequentialminus\": [[0.0, \"#0d0887\"], [0.1111111111111111, \"#46039f\"], [0.2222222222222222, \"#7201a8\"], [0.3333333333333333, \"#9c179e\"], [0.4444444444444444, \"#bd3786\"], [0.5555555555555556, \"#d8576b\"], [0.6666666666666666, \"#ed7953\"], [0.7777777777777778, \"#fb9f3a\"], [0.8888888888888888, \"#fdca26\"], [1.0, \"#f0f921\"]]}, \"colorway\": [\"#636efa\", \"#EF553B\", \"#00cc96\", \"#ab63fa\", \"#FFA15A\", \"#19d3f3\", \"#FF6692\", \"#B6E880\", \"#FF97FF\", \"#FECB52\"], \"font\": {\"color\": \"#2a3f5f\"}, \"geo\": {\"bgcolor\": \"white\", \"lakecolor\": \"white\", \"landcolor\": \"#E5ECF6\", \"showlakes\": true, \"showland\": true, \"subunitcolor\": \"white\"}, \"hoverlabel\": {\"align\": \"left\"}, \"hovermode\": \"closest\", \"mapbox\": {\"style\": \"light\"}, \"paper_bgcolor\": \"white\", \"plot_bgcolor\": \"#E5ECF6\", \"polar\": {\"angularaxis\": {\"gridcolor\": \"white\", \"linecolor\": \"white\", \"ticks\": \"\"}, \"bgcolor\": \"#E5ECF6\", \"radialaxis\": {\"gridcolor\": \"white\", \"linecolor\": \"white\", \"ticks\": \"\"}}, \"scene\": {\"xaxis\": {\"backgroundcolor\": \"#E5ECF6\", \"gridcolor\": \"white\", \"gridwidth\": 2, \"linecolor\": \"white\", \"showbackground\": true, \"ticks\": \"\", \"zerolinecolor\": \"white\"}, \"yaxis\": {\"backgroundcolor\": \"#E5ECF6\", \"gridcolor\": \"white\", \"gridwidth\": 2, \"linecolor\": \"white\", \"showbackground\": true, \"ticks\": \"\", \"zerolinecolor\": \"white\"}, \"zaxis\": {\"backgroundcolor\": \"#E5ECF6\", \"gridcolor\": \"white\", \"gridwidth\": 2, \"linecolor\": \"white\", \"showbackground\": true, \"ticks\": \"\", \"zerolinecolor\": \"white\"}}, \"shapedefaults\": {\"line\": {\"color\": \"#2a3f5f\"}}, \"ternary\": {\"aaxis\": {\"gridcolor\": \"white\", \"linecolor\": \"white\", \"ticks\": \"\"}, \"baxis\": {\"gridcolor\": \"white\", \"linecolor\": \"white\", \"ticks\": \"\"}, \"bgcolor\": \"#E5ECF6\", \"caxis\": {\"gridcolor\": \"white\", \"linecolor\": \"white\", \"ticks\": \"\"}}, \"title\": {\"x\": 0.05}, \"xaxis\": {\"automargin\": true, \"gridcolor\": \"white\", \"linecolor\": \"white\", \"ticks\": \"\", \"title\": {\"standoff\": 15}, \"zerolinecolor\": \"white\", \"zerolinewidth\": 2}, \"yaxis\": {\"automargin\": true, \"gridcolor\": \"white\", \"linecolor\": \"white\", \"ticks\": \"\", \"title\": {\"standoff\": 15}, \"zerolinecolor\": \"white\", \"zerolinewidth\": 2}}}, \"title\": {\"text\": \"Taxa Selic ao longo de 2020\"}},                        {\"responsive\": true}                    ).then(function(){\n",
       "                            \n",
       "var gd = document.getElementById('6b2abbe8-e23f-40c7-b43c-97e91c493075');\n",
       "var x = new MutationObserver(function (mutations, observer) {{\n",
       "        var display = window.getComputedStyle(gd).display;\n",
       "        if (!display || display === 'none') {{\n",
       "            console.log([gd, 'removed!']);\n",
       "            Plotly.purge(gd);\n",
       "            observer.disconnect();\n",
       "        }}\n",
       "}});\n",
       "\n",
       "// Listen for the removal of the full notebook cells\n",
       "var notebookContainer = gd.closest('#notebook-container');\n",
       "if (notebookContainer) {{\n",
       "    x.observe(notebookContainer, {childList: true});\n",
       "}}\n",
       "\n",
       "// Listen for the clearing of the current output cell\n",
       "var outputEl = gd.closest('.output');\n",
       "if (outputEl) {{\n",
       "    x.observe(outputEl, {childList: true});\n",
       "}}\n",
       "\n",
       "                        })                };                });            </script>        </div>"
      ]
     },
     "metadata": {},
     "output_type": "display_data"
    }
   ],
   "source": [
    "fig = go.Figure(go.Scatter(x = selic['DateTime'], y = selic['Selic'], name = 'Taxa Selic'))\n",
    "fig.update_layout(title = 'Taxa Selic ao longo de 2020')\n",
    "fig.show()"
   ]
  },
  {
   "cell_type": "code",
   "execution_count": 9,
   "metadata": {
    "_cell_guid": "ca3c002a-0c1e-4f32-afd7-2bfc5f018e3c",
    "_uuid": "264474b9-7ef5-4fb5-8c52-31fcbd4c1538",
    "execution": {
     "iopub.execute_input": "2020-10-02T01:08:33.732200Z",
     "iopub.status.busy": "2020-10-02T01:08:33.731253Z",
     "iopub.status.idle": "2020-10-02T01:08:33.737115Z",
     "shell.execute_reply": "2020-10-02T01:08:33.736468Z"
    },
    "papermill": {
     "duration": 0.044299,
     "end_time": "2020-10-02T01:08:33.737237",
     "exception": false,
     "start_time": "2020-10-02T01:08:33.692938",
     "status": "completed"
    },
    "tags": []
   },
   "outputs": [
    {
     "data": {
      "text/html": [
       "<div>                            <div id=\"08f5139a-a022-4e97-8b6c-fcfc627db50e\" class=\"plotly-graph-div\" style=\"height:525px; width:100%;\"></div>            <script type=\"text/javascript\">                require([\"plotly\"], function(Plotly) {                    window.PLOTLYENV=window.PLOTLYENV || {};                                    if (document.getElementById(\"08f5139a-a022-4e97-8b6c-fcfc627db50e\")) {                    Plotly.newPlot(                        \"08f5139a-a022-4e97-8b6c-fcfc627db50e\",                        [{\"name\": \"IPCA\", \"type\": \"scatter\", \"x\": [\"01/01/2020\", \"01/02/2020\", \"01/03/2020\", \"01/04/2020\", \"01/05/2020\", \"01/06/2020\", \"01/07/2020\", \"01/08/2020\"], \"y\": [4.19, 4.01, 3.3, 2.4, 1.88, 2.13, 2.31, 2.44]}],                        {\"template\": {\"data\": {\"bar\": [{\"error_x\": {\"color\": \"#2a3f5f\"}, \"error_y\": {\"color\": \"#2a3f5f\"}, \"marker\": {\"line\": {\"color\": \"#E5ECF6\", \"width\": 0.5}}, \"type\": \"bar\"}], \"barpolar\": [{\"marker\": {\"line\": {\"color\": \"#E5ECF6\", \"width\": 0.5}}, \"type\": \"barpolar\"}], \"carpet\": [{\"aaxis\": {\"endlinecolor\": \"#2a3f5f\", \"gridcolor\": \"white\", \"linecolor\": \"white\", \"minorgridcolor\": \"white\", \"startlinecolor\": \"#2a3f5f\"}, \"baxis\": {\"endlinecolor\": \"#2a3f5f\", \"gridcolor\": \"white\", \"linecolor\": \"white\", \"minorgridcolor\": \"white\", \"startlinecolor\": \"#2a3f5f\"}, \"type\": \"carpet\"}], \"choropleth\": [{\"colorbar\": {\"outlinewidth\": 0, \"ticks\": \"\"}, \"type\": \"choropleth\"}], \"contour\": [{\"colorbar\": {\"outlinewidth\": 0, \"ticks\": \"\"}, \"colorscale\": [[0.0, \"#0d0887\"], [0.1111111111111111, \"#46039f\"], [0.2222222222222222, \"#7201a8\"], [0.3333333333333333, \"#9c179e\"], [0.4444444444444444, \"#bd3786\"], [0.5555555555555556, \"#d8576b\"], [0.6666666666666666, \"#ed7953\"], [0.7777777777777778, \"#fb9f3a\"], [0.8888888888888888, \"#fdca26\"], [1.0, \"#f0f921\"]], \"type\": \"contour\"}], \"contourcarpet\": [{\"colorbar\": {\"outlinewidth\": 0, \"ticks\": \"\"}, \"type\": \"contourcarpet\"}], \"heatmap\": [{\"colorbar\": {\"outlinewidth\": 0, \"ticks\": \"\"}, \"colorscale\": [[0.0, \"#0d0887\"], [0.1111111111111111, \"#46039f\"], [0.2222222222222222, \"#7201a8\"], [0.3333333333333333, \"#9c179e\"], [0.4444444444444444, \"#bd3786\"], [0.5555555555555556, \"#d8576b\"], [0.6666666666666666, \"#ed7953\"], [0.7777777777777778, \"#fb9f3a\"], [0.8888888888888888, \"#fdca26\"], [1.0, \"#f0f921\"]], \"type\": \"heatmap\"}], \"heatmapgl\": [{\"colorbar\": {\"outlinewidth\": 0, \"ticks\": \"\"}, \"colorscale\": [[0.0, \"#0d0887\"], [0.1111111111111111, \"#46039f\"], [0.2222222222222222, \"#7201a8\"], [0.3333333333333333, \"#9c179e\"], [0.4444444444444444, \"#bd3786\"], [0.5555555555555556, \"#d8576b\"], [0.6666666666666666, \"#ed7953\"], [0.7777777777777778, \"#fb9f3a\"], [0.8888888888888888, \"#fdca26\"], [1.0, \"#f0f921\"]], \"type\": \"heatmapgl\"}], \"histogram\": [{\"marker\": {\"colorbar\": {\"outlinewidth\": 0, \"ticks\": \"\"}}, \"type\": \"histogram\"}], \"histogram2d\": [{\"colorbar\": {\"outlinewidth\": 0, \"ticks\": \"\"}, \"colorscale\": [[0.0, \"#0d0887\"], [0.1111111111111111, \"#46039f\"], [0.2222222222222222, \"#7201a8\"], [0.3333333333333333, \"#9c179e\"], [0.4444444444444444, \"#bd3786\"], [0.5555555555555556, \"#d8576b\"], [0.6666666666666666, \"#ed7953\"], [0.7777777777777778, \"#fb9f3a\"], [0.8888888888888888, \"#fdca26\"], [1.0, \"#f0f921\"]], \"type\": \"histogram2d\"}], \"histogram2dcontour\": [{\"colorbar\": {\"outlinewidth\": 0, \"ticks\": \"\"}, \"colorscale\": [[0.0, \"#0d0887\"], [0.1111111111111111, \"#46039f\"], [0.2222222222222222, \"#7201a8\"], [0.3333333333333333, \"#9c179e\"], [0.4444444444444444, \"#bd3786\"], [0.5555555555555556, \"#d8576b\"], [0.6666666666666666, \"#ed7953\"], [0.7777777777777778, \"#fb9f3a\"], [0.8888888888888888, \"#fdca26\"], [1.0, \"#f0f921\"]], \"type\": \"histogram2dcontour\"}], \"mesh3d\": [{\"colorbar\": {\"outlinewidth\": 0, \"ticks\": \"\"}, \"type\": \"mesh3d\"}], \"parcoords\": [{\"line\": {\"colorbar\": {\"outlinewidth\": 0, \"ticks\": \"\"}}, \"type\": \"parcoords\"}], \"pie\": [{\"automargin\": true, \"type\": \"pie\"}], \"scatter\": [{\"marker\": {\"colorbar\": {\"outlinewidth\": 0, \"ticks\": \"\"}}, \"type\": \"scatter\"}], \"scatter3d\": [{\"line\": {\"colorbar\": {\"outlinewidth\": 0, \"ticks\": \"\"}}, \"marker\": {\"colorbar\": {\"outlinewidth\": 0, \"ticks\": \"\"}}, \"type\": \"scatter3d\"}], \"scattercarpet\": [{\"marker\": {\"colorbar\": {\"outlinewidth\": 0, \"ticks\": \"\"}}, \"type\": \"scattercarpet\"}], \"scattergeo\": [{\"marker\": {\"colorbar\": {\"outlinewidth\": 0, \"ticks\": \"\"}}, \"type\": \"scattergeo\"}], \"scattergl\": [{\"marker\": {\"colorbar\": {\"outlinewidth\": 0, \"ticks\": \"\"}}, \"type\": \"scattergl\"}], \"scattermapbox\": [{\"marker\": {\"colorbar\": {\"outlinewidth\": 0, \"ticks\": \"\"}}, \"type\": \"scattermapbox\"}], \"scatterpolar\": [{\"marker\": {\"colorbar\": {\"outlinewidth\": 0, \"ticks\": \"\"}}, \"type\": \"scatterpolar\"}], \"scatterpolargl\": [{\"marker\": {\"colorbar\": {\"outlinewidth\": 0, \"ticks\": \"\"}}, \"type\": \"scatterpolargl\"}], \"scatterternary\": [{\"marker\": {\"colorbar\": {\"outlinewidth\": 0, \"ticks\": \"\"}}, \"type\": \"scatterternary\"}], \"surface\": [{\"colorbar\": {\"outlinewidth\": 0, \"ticks\": \"\"}, \"colorscale\": [[0.0, \"#0d0887\"], [0.1111111111111111, \"#46039f\"], [0.2222222222222222, \"#7201a8\"], [0.3333333333333333, \"#9c179e\"], [0.4444444444444444, \"#bd3786\"], [0.5555555555555556, \"#d8576b\"], [0.6666666666666666, \"#ed7953\"], [0.7777777777777778, \"#fb9f3a\"], [0.8888888888888888, \"#fdca26\"], [1.0, \"#f0f921\"]], \"type\": \"surface\"}], \"table\": [{\"cells\": {\"fill\": {\"color\": \"#EBF0F8\"}, \"line\": {\"color\": \"white\"}}, \"header\": {\"fill\": {\"color\": \"#C8D4E3\"}, \"line\": {\"color\": \"white\"}}, \"type\": \"table\"}]}, \"layout\": {\"annotationdefaults\": {\"arrowcolor\": \"#2a3f5f\", \"arrowhead\": 0, \"arrowwidth\": 1}, \"coloraxis\": {\"colorbar\": {\"outlinewidth\": 0, \"ticks\": \"\"}}, \"colorscale\": {\"diverging\": [[0, \"#8e0152\"], [0.1, \"#c51b7d\"], [0.2, \"#de77ae\"], [0.3, \"#f1b6da\"], [0.4, \"#fde0ef\"], [0.5, \"#f7f7f7\"], [0.6, \"#e6f5d0\"], [0.7, \"#b8e186\"], [0.8, \"#7fbc41\"], [0.9, \"#4d9221\"], [1, \"#276419\"]], \"sequential\": [[0.0, \"#0d0887\"], [0.1111111111111111, \"#46039f\"], [0.2222222222222222, \"#7201a8\"], [0.3333333333333333, \"#9c179e\"], [0.4444444444444444, \"#bd3786\"], [0.5555555555555556, \"#d8576b\"], [0.6666666666666666, \"#ed7953\"], [0.7777777777777778, \"#fb9f3a\"], [0.8888888888888888, \"#fdca26\"], [1.0, \"#f0f921\"]], \"sequentialminus\": [[0.0, \"#0d0887\"], [0.1111111111111111, \"#46039f\"], [0.2222222222222222, \"#7201a8\"], [0.3333333333333333, \"#9c179e\"], [0.4444444444444444, \"#bd3786\"], [0.5555555555555556, \"#d8576b\"], [0.6666666666666666, \"#ed7953\"], [0.7777777777777778, \"#fb9f3a\"], [0.8888888888888888, \"#fdca26\"], [1.0, \"#f0f921\"]]}, \"colorway\": [\"#636efa\", \"#EF553B\", \"#00cc96\", \"#ab63fa\", \"#FFA15A\", \"#19d3f3\", \"#FF6692\", \"#B6E880\", \"#FF97FF\", \"#FECB52\"], \"font\": {\"color\": \"#2a3f5f\"}, \"geo\": {\"bgcolor\": \"white\", \"lakecolor\": \"white\", \"landcolor\": \"#E5ECF6\", \"showlakes\": true, \"showland\": true, \"subunitcolor\": \"white\"}, \"hoverlabel\": {\"align\": \"left\"}, \"hovermode\": \"closest\", \"mapbox\": {\"style\": \"light\"}, \"paper_bgcolor\": \"white\", \"plot_bgcolor\": \"#E5ECF6\", \"polar\": {\"angularaxis\": {\"gridcolor\": \"white\", \"linecolor\": \"white\", \"ticks\": \"\"}, \"bgcolor\": \"#E5ECF6\", \"radialaxis\": {\"gridcolor\": \"white\", \"linecolor\": \"white\", \"ticks\": \"\"}}, \"scene\": {\"xaxis\": {\"backgroundcolor\": \"#E5ECF6\", \"gridcolor\": \"white\", \"gridwidth\": 2, \"linecolor\": \"white\", \"showbackground\": true, \"ticks\": \"\", \"zerolinecolor\": \"white\"}, \"yaxis\": {\"backgroundcolor\": \"#E5ECF6\", \"gridcolor\": \"white\", \"gridwidth\": 2, \"linecolor\": \"white\", \"showbackground\": true, \"ticks\": \"\", \"zerolinecolor\": \"white\"}, \"zaxis\": {\"backgroundcolor\": \"#E5ECF6\", \"gridcolor\": \"white\", \"gridwidth\": 2, \"linecolor\": \"white\", \"showbackground\": true, \"ticks\": \"\", \"zerolinecolor\": \"white\"}}, \"shapedefaults\": {\"line\": {\"color\": \"#2a3f5f\"}}, \"ternary\": {\"aaxis\": {\"gridcolor\": \"white\", \"linecolor\": \"white\", \"ticks\": \"\"}, \"baxis\": {\"gridcolor\": \"white\", \"linecolor\": \"white\", \"ticks\": \"\"}, \"bgcolor\": \"#E5ECF6\", \"caxis\": {\"gridcolor\": \"white\", \"linecolor\": \"white\", \"ticks\": \"\"}}, \"title\": {\"x\": 0.05}, \"xaxis\": {\"automargin\": true, \"gridcolor\": \"white\", \"linecolor\": \"white\", \"ticks\": \"\", \"title\": {\"standoff\": 15}, \"zerolinecolor\": \"white\", \"zerolinewidth\": 2}, \"yaxis\": {\"automargin\": true, \"gridcolor\": \"white\", \"linecolor\": \"white\", \"ticks\": \"\", \"title\": {\"standoff\": 15}, \"zerolinecolor\": \"white\", \"zerolinewidth\": 2}}}, \"title\": {\"text\": \"IPCA ao longo de 2020\"}},                        {\"responsive\": true}                    ).then(function(){\n",
       "                            \n",
       "var gd = document.getElementById('08f5139a-a022-4e97-8b6c-fcfc627db50e');\n",
       "var x = new MutationObserver(function (mutations, observer) {{\n",
       "        var display = window.getComputedStyle(gd).display;\n",
       "        if (!display || display === 'none') {{\n",
       "            console.log([gd, 'removed!']);\n",
       "            Plotly.purge(gd);\n",
       "            observer.disconnect();\n",
       "        }}\n",
       "}});\n",
       "\n",
       "// Listen for the removal of the full notebook cells\n",
       "var notebookContainer = gd.closest('#notebook-container');\n",
       "if (notebookContainer) {{\n",
       "    x.observe(notebookContainer, {childList: true});\n",
       "}}\n",
       "\n",
       "// Listen for the clearing of the current output cell\n",
       "var outputEl = gd.closest('.output');\n",
       "if (outputEl) {{\n",
       "    x.observe(outputEl, {childList: true});\n",
       "}}\n",
       "\n",
       "                        })                };                });            </script>        </div>"
      ]
     },
     "metadata": {},
     "output_type": "display_data"
    }
   ],
   "source": [
    "fig = go.Figure(go.Scatter(x = ipca['Data'], y = ipca['IPCA'], name = 'IPCA'))\n",
    "fig.update_layout(title = 'IPCA ao longo de 2020')\n",
    "fig.show()"
   ]
  },
  {
   "cell_type": "code",
   "execution_count": 10,
   "metadata": {
    "_cell_guid": "d363ee34-e3ca-47d4-b9f7-bf94047ac753",
    "_uuid": "b811eb0a-fd81-4587-b042-4fb2ba18ef89",
    "execution": {
     "iopub.execute_input": "2020-10-02T01:08:33.804853Z",
     "iopub.status.busy": "2020-10-02T01:08:33.804116Z",
     "iopub.status.idle": "2020-10-02T01:08:33.811546Z",
     "shell.execute_reply": "2020-10-02T01:08:33.810836Z"
    },
    "papermill": {
     "duration": 0.050161,
     "end_time": "2020-10-02T01:08:33.811706",
     "exception": false,
     "start_time": "2020-10-02T01:08:33.761545",
     "status": "completed"
    },
    "tags": []
   },
   "outputs": [
    {
     "data": {
      "text/html": [
       "<div>                            <div id=\"65bafbd0-7490-441a-9d7b-b80fbaaa59af\" class=\"plotly-graph-div\" style=\"height:525px; width:100%;\"></div>            <script type=\"text/javascript\">                require([\"plotly\"], function(Plotly) {                    window.PLOTLYENV=window.PLOTLYENV || {};                                    if (document.getElementById(\"65bafbd0-7490-441a-9d7b-b80fbaaa59af\")) {                    Plotly.newPlot(                        \"65bafbd0-7490-441a-9d7b-b80fbaaa59af\",                        [{\"name\": \"Taxa Selic\", \"type\": \"scatter\", \"x\": [\"01/01/2020\", \"02/01/2020\", \"03/01/2020\", \"04/01/2020\", \"05/01/2020\", \"06/01/2020\", \"07/01/2020\", \"08/01/2020\", \"09/01/2020\", \"10/01/2020\", \"11/01/2020\", \"12/01/2020\", \"13/01/2020\", \"14/01/2020\", \"15/01/2020\", \"16/01/2020\", \"17/01/2020\", \"18/01/2020\", \"19/01/2020\", \"20/01/2020\", \"21/01/2020\", \"22/01/2020\", \"23/01/2020\", \"24/01/2020\", \"25/01/2020\", \"26/01/2020\", \"27/01/2020\", \"28/01/2020\", \"29/01/2020\", \"30/01/2020\", \"31/01/2020\", \"01/02/2020\", \"02/02/2020\", \"03/02/2020\", \"04/02/2020\", \"05/02/2020\", \"06/02/2020\", \"07/02/2020\", \"08/02/2020\", \"09/02/2020\", \"10/02/2020\", \"11/02/2020\", \"12/02/2020\", \"13/02/2020\", \"14/02/2020\", \"15/02/2020\", \"16/02/2020\", \"17/02/2020\", \"18/02/2020\", \"19/02/2020\", \"20/02/2020\", \"21/02/2020\", \"22/02/2020\", \"23/02/2020\", \"24/02/2020\", \"25/02/2020\", \"26/02/2020\", \"27/02/2020\", \"28/02/2020\", \"29/02/2020\", \"01/03/2020\", \"02/03/2020\", \"03/03/2020\", \"04/03/2020\", \"05/03/2020\", \"06/03/2020\", \"07/03/2020\", \"08/03/2020\", \"09/03/2020\", \"10/03/2020\", \"11/03/2020\", \"12/03/2020\", \"13/03/2020\", \"14/03/2020\", \"15/03/2020\", \"16/03/2020\", \"17/03/2020\", \"18/03/2020\", \"19/03/2020\", \"20/03/2020\", \"21/03/2020\", \"22/03/2020\", \"23/03/2020\", \"24/03/2020\", \"25/03/2020\", \"26/03/2020\", \"27/03/2020\", \"28/03/2020\", \"29/03/2020\", \"30/03/2020\", \"31/03/2020\", \"01/04/2020\", \"02/04/2020\", \"03/04/2020\", \"04/04/2020\", \"05/04/2020\", \"06/04/2020\", \"07/04/2020\", \"08/04/2020\", \"09/04/2020\", \"10/04/2020\", \"11/04/2020\", \"12/04/2020\", \"13/04/2020\", \"14/04/2020\", \"15/04/2020\", \"16/04/2020\", \"17/04/2020\", \"18/04/2020\", \"19/04/2020\", \"20/04/2020\", \"21/04/2020\", \"22/04/2020\", \"23/04/2020\", \"24/04/2020\", \"25/04/2020\", \"26/04/2020\", \"27/04/2020\", \"28/04/2020\", \"29/04/2020\", \"30/04/2020\", \"01/05/2020\", \"02/05/2020\", \"03/05/2020\", \"04/05/2020\", \"05/05/2020\", \"06/05/2020\", \"07/05/2020\", \"08/05/2020\", \"09/05/2020\", \"10/05/2020\", \"11/05/2020\", \"12/05/2020\", \"13/05/2020\", \"14/05/2020\", \"15/05/2020\", \"16/05/2020\", \"17/05/2020\", \"18/05/2020\", \"19/05/2020\", \"20/05/2020\", \"21/05/2020\", \"22/05/2020\", \"23/05/2020\", \"24/05/2020\", \"25/05/2020\", \"26/05/2020\", \"27/05/2020\", \"28/05/2020\", \"29/05/2020\", \"30/05/2020\", \"31/05/2020\", \"01/06/2020\", \"02/06/2020\", \"03/06/2020\", \"04/06/2020\", \"05/06/2020\", \"06/06/2020\", \"07/06/2020\", \"08/06/2020\", \"09/06/2020\", \"10/06/2020\", \"11/06/2020\", \"12/06/2020\", \"13/06/2020\", \"14/06/2020\", \"15/06/2020\", \"16/06/2020\", \"17/06/2020\", \"18/06/2020\", \"19/06/2020\", \"20/06/2020\", \"21/06/2020\", \"22/06/2020\", \"23/06/2020\", \"24/06/2020\", \"25/06/2020\", \"26/06/2020\", \"27/06/2020\", \"28/06/2020\", \"29/06/2020\", \"30/06/2020\", \"01/07/2020\", \"02/07/2020\", \"03/07/2020\", \"04/07/2020\", \"05/07/2020\", \"06/07/2020\", \"07/07/2020\", \"08/07/2020\", \"09/07/2020\", \"10/07/2020\", \"11/07/2020\", \"12/07/2020\", \"13/07/2020\", \"14/07/2020\", \"15/07/2020\", \"16/07/2020\", \"17/07/2020\", \"18/07/2020\", \"19/07/2020\", \"20/07/2020\", \"21/07/2020\", \"22/07/2020\", \"23/07/2020\", \"24/07/2020\", \"25/07/2020\", \"26/07/2020\", \"27/07/2020\", \"28/07/2020\", \"29/07/2020\", \"30/07/2020\", \"31/07/2020\", \"01/08/2020\", \"02/08/2020\", \"03/08/2020\", \"04/08/2020\", \"05/08/2020\", \"06/08/2020\", \"07/08/2020\", \"08/08/2020\", \"09/08/2020\", \"10/08/2020\", \"11/08/2020\", \"12/08/2020\", \"13/08/2020\", \"14/08/2020\", \"15/08/2020\", \"16/08/2020\", \"17/08/2020\", \"18/08/2020\", \"19/08/2020\", \"20/08/2020\", \"21/08/2020\", \"22/08/2020\", \"23/08/2020\", \"24/08/2020\", \"25/08/2020\", \"26/08/2020\", \"27/08/2020\", \"28/08/2020\", \"29/08/2020\", \"30/08/2020\", \"31/08/2020\", \"01/09/2020\", \"02/09/2020\", \"03/09/2020\", \"04/09/2020\", \"05/09/2020\", \"06/09/2020\", \"07/09/2020\", \"08/09/2020\", \"09/09/2020\", \"10/09/2020\", \"11/09/2020\", \"12/09/2020\", \"13/09/2020\", \"14/09/2020\", \"15/09/2020\", \"16/09/2020\", \"17/09/2020\", \"18/09/2020\", \"19/09/2020\", \"20/09/2020\", \"21/09/2020\", \"22/09/2020\", \"23/09/2020\", \"24/09/2020\", \"25/09/2020\", \"26/09/2020\", \"27/09/2020\", \"28/09/2020\", \"29/09/2020\", \"30/09/2020\", \"01/10/2020\"], \"y\": [4.5, 4.5, 4.5, 4.5, 4.5, 4.5, 4.5, 4.5, 4.5, 4.5, 4.5, 4.5, 4.5, 4.5, 4.5, 4.5, 4.5, 4.5, 4.5, 4.5, 4.5, 4.5, 4.5, 4.5, 4.5, 4.5, 4.5, 4.5, 4.5, 4.5, 4.5, 4.5, 4.5, 4.5, 4.5, 4.5, 4.25, 4.25, 4.25, 4.25, 4.25, 4.25, 4.25, 4.25, 4.25, 4.25, 4.25, 4.25, 4.25, 4.25, 4.25, 4.25, 4.25, 4.25, 4.25, 4.25, 4.25, 4.25, 4.25, 4.25, 4.25, 4.25, 4.25, 4.25, 4.25, 4.25, 4.25, 4.25, 4.25, 4.25, 4.25, 4.25, 4.25, 4.25, 4.25, 4.25, 4.25, 4.25, 3.75, 3.75, 3.75, 3.75, 3.75, 3.75, 3.75, 3.75, 3.75, 3.75, 3.75, 3.75, 3.75, 3.75, 3.75, 3.75, 3.75, 3.75, 3.75, 3.75, 3.75, 3.75, 3.75, 3.75, 3.75, 3.75, 3.75, 3.75, 3.75, 3.75, 3.75, 3.75, 3.75, 3.75, 3.75, 3.75, 3.75, 3.75, 3.75, 3.75, 3.75, 3.75, 3.75, 3.75, 3.75, 3.75, 3.75, 3.75, 3.75, 3.0, 3.0, 3.0, 3.0, 3.0, 3.0, 3.0, 3.0, 3.0, 3.0, 3.0, 3.0, 3.0, 3.0, 3.0, 3.0, 3.0, 3.0, 3.0, 3.0, 3.0, 3.0, 3.0, 3.0, 3.0, 3.0, 3.0, 3.0, 3.0, 3.0, 3.0, 3.0, 3.0, 3.0, 3.0, 3.0, 3.0, 3.0, 3.0, 3.0, 3.0, 3.0, 2.25, 2.25, 2.25, 2.25, 2.25, 2.25, 2.25, 2.25, 2.25, 2.25, 2.25, 2.25, 2.25, 2.25, 2.25, 2.25, 2.25, 2.25, 2.25, 2.25, 2.25, 2.25, 2.25, 2.25, 2.25, 2.25, 2.25, 2.25, 2.25, 2.25, 2.25, 2.25, 2.25, 2.25, 2.25, 2.25, 2.25, 2.25, 2.25, 2.25, 2.25, 2.25, 2.25, 2.25, 2.25, 2.25, 2.25, 2.25, 2.25, 2.0, 2.0, 2.0, 2.0, 2.0, 2.0, 2.0, 2.0, 2.0, 2.0, 2.0, 2.0, 2.0, 2.0, 2.0, 2.0, 2.0, 2.0, 2.0, 2.0, 2.0, 2.0, 2.0, 2.0, 2.0, 2.0, 2.0, 2.0, 2.0, 2.0, 2.0, 2.0, 2.0, 2.0, 2.0, 2.0, 2.0, 2.0, 2.0, 2.0, 2.0, 2.0, 2.0, 2.0, 2.0, 2.0, 2.0, 2.0, 2.0, 2.0, 2.0, 2.0, 2.0, 2.0, 2.0, 2.0, 2.0]}, {\"name\": \"IPCA\", \"type\": \"scatter\", \"x\": [\"01/01/2020\", \"01/02/2020\", \"01/03/2020\", \"01/04/2020\", \"01/05/2020\", \"01/06/2020\", \"01/07/2020\", \"01/08/2020\"], \"y\": [4.19, 4.01, 3.3, 2.4, 1.88, 2.13, 2.31, 2.44]}],                        {\"template\": {\"data\": {\"bar\": [{\"error_x\": {\"color\": \"#2a3f5f\"}, \"error_y\": {\"color\": \"#2a3f5f\"}, \"marker\": {\"line\": {\"color\": \"#E5ECF6\", \"width\": 0.5}}, \"type\": \"bar\"}], \"barpolar\": [{\"marker\": {\"line\": {\"color\": \"#E5ECF6\", \"width\": 0.5}}, \"type\": \"barpolar\"}], \"carpet\": [{\"aaxis\": {\"endlinecolor\": \"#2a3f5f\", \"gridcolor\": \"white\", \"linecolor\": \"white\", \"minorgridcolor\": \"white\", \"startlinecolor\": \"#2a3f5f\"}, \"baxis\": {\"endlinecolor\": \"#2a3f5f\", \"gridcolor\": \"white\", \"linecolor\": \"white\", \"minorgridcolor\": \"white\", \"startlinecolor\": \"#2a3f5f\"}, \"type\": \"carpet\"}], \"choropleth\": [{\"colorbar\": {\"outlinewidth\": 0, \"ticks\": \"\"}, \"type\": \"choropleth\"}], \"contour\": [{\"colorbar\": {\"outlinewidth\": 0, \"ticks\": \"\"}, \"colorscale\": [[0.0, \"#0d0887\"], [0.1111111111111111, \"#46039f\"], [0.2222222222222222, \"#7201a8\"], [0.3333333333333333, \"#9c179e\"], [0.4444444444444444, \"#bd3786\"], [0.5555555555555556, \"#d8576b\"], [0.6666666666666666, \"#ed7953\"], [0.7777777777777778, \"#fb9f3a\"], [0.8888888888888888, \"#fdca26\"], [1.0, \"#f0f921\"]], \"type\": \"contour\"}], \"contourcarpet\": [{\"colorbar\": {\"outlinewidth\": 0, \"ticks\": \"\"}, \"type\": \"contourcarpet\"}], \"heatmap\": [{\"colorbar\": {\"outlinewidth\": 0, \"ticks\": \"\"}, \"colorscale\": [[0.0, \"#0d0887\"], [0.1111111111111111, \"#46039f\"], [0.2222222222222222, \"#7201a8\"], [0.3333333333333333, \"#9c179e\"], [0.4444444444444444, \"#bd3786\"], [0.5555555555555556, \"#d8576b\"], [0.6666666666666666, \"#ed7953\"], [0.7777777777777778, \"#fb9f3a\"], [0.8888888888888888, \"#fdca26\"], [1.0, \"#f0f921\"]], \"type\": \"heatmap\"}], \"heatmapgl\": [{\"colorbar\": {\"outlinewidth\": 0, \"ticks\": \"\"}, \"colorscale\": [[0.0, \"#0d0887\"], [0.1111111111111111, \"#46039f\"], [0.2222222222222222, \"#7201a8\"], [0.3333333333333333, \"#9c179e\"], [0.4444444444444444, \"#bd3786\"], [0.5555555555555556, \"#d8576b\"], [0.6666666666666666, \"#ed7953\"], [0.7777777777777778, \"#fb9f3a\"], [0.8888888888888888, \"#fdca26\"], [1.0, \"#f0f921\"]], \"type\": \"heatmapgl\"}], \"histogram\": [{\"marker\": {\"colorbar\": {\"outlinewidth\": 0, \"ticks\": \"\"}}, \"type\": \"histogram\"}], \"histogram2d\": [{\"colorbar\": {\"outlinewidth\": 0, \"ticks\": \"\"}, \"colorscale\": [[0.0, \"#0d0887\"], [0.1111111111111111, \"#46039f\"], [0.2222222222222222, \"#7201a8\"], [0.3333333333333333, \"#9c179e\"], [0.4444444444444444, \"#bd3786\"], [0.5555555555555556, \"#d8576b\"], [0.6666666666666666, \"#ed7953\"], [0.7777777777777778, \"#fb9f3a\"], [0.8888888888888888, \"#fdca26\"], [1.0, \"#f0f921\"]], \"type\": \"histogram2d\"}], \"histogram2dcontour\": [{\"colorbar\": {\"outlinewidth\": 0, \"ticks\": \"\"}, \"colorscale\": [[0.0, \"#0d0887\"], [0.1111111111111111, \"#46039f\"], [0.2222222222222222, \"#7201a8\"], [0.3333333333333333, \"#9c179e\"], [0.4444444444444444, \"#bd3786\"], [0.5555555555555556, \"#d8576b\"], [0.6666666666666666, \"#ed7953\"], [0.7777777777777778, \"#fb9f3a\"], [0.8888888888888888, \"#fdca26\"], [1.0, \"#f0f921\"]], \"type\": \"histogram2dcontour\"}], \"mesh3d\": [{\"colorbar\": {\"outlinewidth\": 0, \"ticks\": \"\"}, \"type\": \"mesh3d\"}], \"parcoords\": [{\"line\": {\"colorbar\": {\"outlinewidth\": 0, \"ticks\": \"\"}}, \"type\": \"parcoords\"}], \"pie\": [{\"automargin\": true, \"type\": \"pie\"}], \"scatter\": [{\"marker\": {\"colorbar\": {\"outlinewidth\": 0, \"ticks\": \"\"}}, \"type\": \"scatter\"}], \"scatter3d\": [{\"line\": {\"colorbar\": {\"outlinewidth\": 0, \"ticks\": \"\"}}, \"marker\": {\"colorbar\": {\"outlinewidth\": 0, \"ticks\": \"\"}}, \"type\": \"scatter3d\"}], \"scattercarpet\": [{\"marker\": {\"colorbar\": {\"outlinewidth\": 0, \"ticks\": \"\"}}, \"type\": \"scattercarpet\"}], \"scattergeo\": [{\"marker\": {\"colorbar\": {\"outlinewidth\": 0, \"ticks\": \"\"}}, \"type\": \"scattergeo\"}], \"scattergl\": [{\"marker\": {\"colorbar\": {\"outlinewidth\": 0, \"ticks\": \"\"}}, \"type\": \"scattergl\"}], \"scattermapbox\": [{\"marker\": {\"colorbar\": {\"outlinewidth\": 0, \"ticks\": \"\"}}, \"type\": \"scattermapbox\"}], \"scatterpolar\": [{\"marker\": {\"colorbar\": {\"outlinewidth\": 0, \"ticks\": \"\"}}, \"type\": \"scatterpolar\"}], \"scatterpolargl\": [{\"marker\": {\"colorbar\": {\"outlinewidth\": 0, \"ticks\": \"\"}}, \"type\": \"scatterpolargl\"}], \"scatterternary\": [{\"marker\": {\"colorbar\": {\"outlinewidth\": 0, \"ticks\": \"\"}}, \"type\": \"scatterternary\"}], \"surface\": [{\"colorbar\": {\"outlinewidth\": 0, \"ticks\": \"\"}, \"colorscale\": [[0.0, \"#0d0887\"], [0.1111111111111111, \"#46039f\"], [0.2222222222222222, \"#7201a8\"], [0.3333333333333333, \"#9c179e\"], [0.4444444444444444, \"#bd3786\"], [0.5555555555555556, \"#d8576b\"], [0.6666666666666666, \"#ed7953\"], [0.7777777777777778, \"#fb9f3a\"], [0.8888888888888888, \"#fdca26\"], [1.0, \"#f0f921\"]], \"type\": \"surface\"}], \"table\": [{\"cells\": {\"fill\": {\"color\": \"#EBF0F8\"}, \"line\": {\"color\": \"white\"}}, \"header\": {\"fill\": {\"color\": \"#C8D4E3\"}, \"line\": {\"color\": \"white\"}}, \"type\": \"table\"}]}, \"layout\": {\"annotationdefaults\": {\"arrowcolor\": \"#2a3f5f\", \"arrowhead\": 0, \"arrowwidth\": 1}, \"coloraxis\": {\"colorbar\": {\"outlinewidth\": 0, \"ticks\": \"\"}}, \"colorscale\": {\"diverging\": [[0, \"#8e0152\"], [0.1, \"#c51b7d\"], [0.2, \"#de77ae\"], [0.3, \"#f1b6da\"], [0.4, \"#fde0ef\"], [0.5, \"#f7f7f7\"], [0.6, \"#e6f5d0\"], [0.7, \"#b8e186\"], [0.8, \"#7fbc41\"], [0.9, \"#4d9221\"], [1, \"#276419\"]], \"sequential\": [[0.0, \"#0d0887\"], [0.1111111111111111, \"#46039f\"], [0.2222222222222222, \"#7201a8\"], [0.3333333333333333, \"#9c179e\"], [0.4444444444444444, \"#bd3786\"], [0.5555555555555556, \"#d8576b\"], [0.6666666666666666, \"#ed7953\"], [0.7777777777777778, \"#fb9f3a\"], [0.8888888888888888, \"#fdca26\"], [1.0, \"#f0f921\"]], \"sequentialminus\": [[0.0, \"#0d0887\"], [0.1111111111111111, \"#46039f\"], [0.2222222222222222, \"#7201a8\"], [0.3333333333333333, \"#9c179e\"], [0.4444444444444444, \"#bd3786\"], [0.5555555555555556, \"#d8576b\"], [0.6666666666666666, \"#ed7953\"], [0.7777777777777778, \"#fb9f3a\"], [0.8888888888888888, \"#fdca26\"], [1.0, \"#f0f921\"]]}, \"colorway\": [\"#636efa\", \"#EF553B\", \"#00cc96\", \"#ab63fa\", \"#FFA15A\", \"#19d3f3\", \"#FF6692\", \"#B6E880\", \"#FF97FF\", \"#FECB52\"], \"font\": {\"color\": \"#2a3f5f\"}, \"geo\": {\"bgcolor\": \"white\", \"lakecolor\": \"white\", \"landcolor\": \"#E5ECF6\", \"showlakes\": true, \"showland\": true, \"subunitcolor\": \"white\"}, \"hoverlabel\": {\"align\": \"left\"}, \"hovermode\": \"closest\", \"mapbox\": {\"style\": \"light\"}, \"paper_bgcolor\": \"white\", \"plot_bgcolor\": \"#E5ECF6\", \"polar\": {\"angularaxis\": {\"gridcolor\": \"white\", \"linecolor\": \"white\", \"ticks\": \"\"}, \"bgcolor\": \"#E5ECF6\", \"radialaxis\": {\"gridcolor\": \"white\", \"linecolor\": \"white\", \"ticks\": \"\"}}, \"scene\": {\"xaxis\": {\"backgroundcolor\": \"#E5ECF6\", \"gridcolor\": \"white\", \"gridwidth\": 2, \"linecolor\": \"white\", \"showbackground\": true, \"ticks\": \"\", \"zerolinecolor\": \"white\"}, \"yaxis\": {\"backgroundcolor\": \"#E5ECF6\", \"gridcolor\": \"white\", \"gridwidth\": 2, \"linecolor\": \"white\", \"showbackground\": true, \"ticks\": \"\", \"zerolinecolor\": \"white\"}, \"zaxis\": {\"backgroundcolor\": \"#E5ECF6\", \"gridcolor\": \"white\", \"gridwidth\": 2, \"linecolor\": \"white\", \"showbackground\": true, \"ticks\": \"\", \"zerolinecolor\": \"white\"}}, \"shapedefaults\": {\"line\": {\"color\": \"#2a3f5f\"}}, \"ternary\": {\"aaxis\": {\"gridcolor\": \"white\", \"linecolor\": \"white\", \"ticks\": \"\"}, \"baxis\": {\"gridcolor\": \"white\", \"linecolor\": \"white\", \"ticks\": \"\"}, \"bgcolor\": \"#E5ECF6\", \"caxis\": {\"gridcolor\": \"white\", \"linecolor\": \"white\", \"ticks\": \"\"}}, \"title\": {\"x\": 0.05}, \"xaxis\": {\"automargin\": true, \"gridcolor\": \"white\", \"linecolor\": \"white\", \"ticks\": \"\", \"title\": {\"standoff\": 15}, \"zerolinecolor\": \"white\", \"zerolinewidth\": 2}, \"yaxis\": {\"automargin\": true, \"gridcolor\": \"white\", \"linecolor\": \"white\", \"ticks\": \"\", \"title\": {\"standoff\": 15}, \"zerolinecolor\": \"white\", \"zerolinewidth\": 2}}}, \"title\": {\"text\": \"IPCA & Selic no ano de 2020\"}},                        {\"responsive\": true}                    ).then(function(){\n",
       "                            \n",
       "var gd = document.getElementById('65bafbd0-7490-441a-9d7b-b80fbaaa59af');\n",
       "var x = new MutationObserver(function (mutations, observer) {{\n",
       "        var display = window.getComputedStyle(gd).display;\n",
       "        if (!display || display === 'none') {{\n",
       "            console.log([gd, 'removed!']);\n",
       "            Plotly.purge(gd);\n",
       "            observer.disconnect();\n",
       "        }}\n",
       "}});\n",
       "\n",
       "// Listen for the removal of the full notebook cells\n",
       "var notebookContainer = gd.closest('#notebook-container');\n",
       "if (notebookContainer) {{\n",
       "    x.observe(notebookContainer, {childList: true});\n",
       "}}\n",
       "\n",
       "// Listen for the clearing of the current output cell\n",
       "var outputEl = gd.closest('.output');\n",
       "if (outputEl) {{\n",
       "    x.observe(outputEl, {childList: true});\n",
       "}}\n",
       "\n",
       "                        })                };                });            </script>        </div>"
      ]
     },
     "metadata": {},
     "output_type": "display_data"
    }
   ],
   "source": [
    "fig = go.Figure(go.Scatter(x = selic['DateTime'], y = selic['Selic'], name = 'Taxa Selic'))\n",
    "fig.add_trace(go.Scatter(x = ipca['Data'], y = ipca['IPCA'], name = 'IPCA'))\n",
    "fig.update_layout(title = 'IPCA & Selic no ano de 2020')\n",
    "fig.show()"
   ]
  },
  {
   "cell_type": "markdown",
   "metadata": {
    "_cell_guid": "72b83b56-2c6c-420a-a098-07dc46c1ac6d",
    "_uuid": "605e60c7-0db0-4c40-9758-4b6a2c3d3d23",
    "papermill": {
     "duration": 0.024477,
     "end_time": "2020-10-02T01:08:33.863420",
     "exception": false,
     "start_time": "2020-10-02T01:08:33.838943",
     "status": "completed"
    },
    "tags": []
   },
   "source": [
    "# Prevendo a economia brasileira em 2021 com os dados dos 6 primeiros meses do ano de 2020:"
   ]
  },
  {
   "cell_type": "markdown",
   "metadata": {
    "_cell_guid": "f710ac53-da21-47c2-8fad-4cdb27310a9a",
    "_uuid": "9ba75184-ddcd-446f-8b40-0266961c30f7",
    "papermill": {
     "duration": 0.024193,
     "end_time": "2020-10-02T01:08:33.912468",
     "exception": false,
     "start_time": "2020-10-02T01:08:33.888275",
     "status": "completed"
    },
    "tags": []
   },
   "source": [
    "Como requisitado, irei usar o ``ARIMA`` para realizar as previsões utilizando os dados dos seis primeiros meses. Irei prever a economia brasileira para os 6 primeiros meses de 2021."
   ]
  },
  {
   "cell_type": "markdown",
   "metadata": {
    "_cell_guid": "5f9c8336-4827-4e74-b008-b9136506595d",
    "_uuid": "8c4a17df-2f58-44ec-b843-17d1bb2a1bd0",
    "papermill": {
     "duration": 0.025682,
     "end_time": "2020-10-02T01:08:33.962798",
     "exception": false,
     "start_time": "2020-10-02T01:08:33.937116",
     "status": "completed"
    },
    "tags": []
   },
   "source": [
    "Primeiro irei limitar os dados para que sejam utilizados somente os 6 primeiros meses de 2020:"
   ]
  },
  {
   "cell_type": "code",
   "execution_count": 11,
   "metadata": {
    "_cell_guid": "cb73b180-af79-4059-88b6-c34149527a3b",
    "_uuid": "e5d77b1f-f157-4b1c-bc28-a21d621a52a0",
    "execution": {
     "iopub.execute_input": "2020-10-02T01:08:34.033959Z",
     "iopub.status.busy": "2020-10-02T01:08:34.032991Z",
     "iopub.status.idle": "2020-10-02T01:08:34.037698Z",
     "shell.execute_reply": "2020-10-02T01:08:34.037011Z"
    },
    "papermill": {
     "duration": 0.048186,
     "end_time": "2020-10-02T01:08:34.037818",
     "exception": false,
     "start_time": "2020-10-02T01:08:33.989632",
     "status": "completed"
    },
    "tags": []
   },
   "outputs": [
    {
     "data": {
      "text/html": [
       "<div>\n",
       "<style scoped>\n",
       "    .dataframe tbody tr th:only-of-type {\n",
       "        vertical-align: middle;\n",
       "    }\n",
       "\n",
       "    .dataframe tbody tr th {\n",
       "        vertical-align: top;\n",
       "    }\n",
       "\n",
       "    .dataframe thead th {\n",
       "        text-align: right;\n",
       "    }\n",
       "</style>\n",
       "<table border=\"1\" class=\"dataframe\">\n",
       "  <thead>\n",
       "    <tr style=\"text-align: right;\">\n",
       "      <th></th>\n",
       "      <th>DateTime</th>\n",
       "      <th>Selic</th>\n",
       "    </tr>\n",
       "  </thead>\n",
       "  <tbody>\n",
       "    <tr>\n",
       "      <th>0</th>\n",
       "      <td>01/01/2020</td>\n",
       "      <td>4.50</td>\n",
       "    </tr>\n",
       "    <tr>\n",
       "      <th>1</th>\n",
       "      <td>02/01/2020</td>\n",
       "      <td>4.50</td>\n",
       "    </tr>\n",
       "    <tr>\n",
       "      <th>2</th>\n",
       "      <td>03/01/2020</td>\n",
       "      <td>4.50</td>\n",
       "    </tr>\n",
       "    <tr>\n",
       "      <th>3</th>\n",
       "      <td>04/01/2020</td>\n",
       "      <td>4.50</td>\n",
       "    </tr>\n",
       "    <tr>\n",
       "      <th>4</th>\n",
       "      <td>05/01/2020</td>\n",
       "      <td>4.50</td>\n",
       "    </tr>\n",
       "    <tr>\n",
       "      <th>...</th>\n",
       "      <td>...</td>\n",
       "      <td>...</td>\n",
       "    </tr>\n",
       "    <tr>\n",
       "      <th>177</th>\n",
       "      <td>26/06/2020</td>\n",
       "      <td>2.25</td>\n",
       "    </tr>\n",
       "    <tr>\n",
       "      <th>178</th>\n",
       "      <td>27/06/2020</td>\n",
       "      <td>2.25</td>\n",
       "    </tr>\n",
       "    <tr>\n",
       "      <th>179</th>\n",
       "      <td>28/06/2020</td>\n",
       "      <td>2.25</td>\n",
       "    </tr>\n",
       "    <tr>\n",
       "      <th>180</th>\n",
       "      <td>29/06/2020</td>\n",
       "      <td>2.25</td>\n",
       "    </tr>\n",
       "    <tr>\n",
       "      <th>181</th>\n",
       "      <td>30/06/2020</td>\n",
       "      <td>2.25</td>\n",
       "    </tr>\n",
       "  </tbody>\n",
       "</table>\n",
       "<p>182 rows × 2 columns</p>\n",
       "</div>"
      ],
      "text/plain": [
       "       DateTime  Selic\n",
       "0    01/01/2020   4.50\n",
       "1    02/01/2020   4.50\n",
       "2    03/01/2020   4.50\n",
       "3    04/01/2020   4.50\n",
       "4    05/01/2020   4.50\n",
       "..          ...    ...\n",
       "177  26/06/2020   2.25\n",
       "178  27/06/2020   2.25\n",
       "179  28/06/2020   2.25\n",
       "180  29/06/2020   2.25\n",
       "181  30/06/2020   2.25\n",
       "\n",
       "[182 rows x 2 columns]"
      ]
     },
     "execution_count": 11,
     "metadata": {},
     "output_type": "execute_result"
    }
   ],
   "source": [
    "pred_selic = selic.iloc[:182 , :]\n",
    "pred_selic"
   ]
  },
  {
   "cell_type": "code",
   "execution_count": 12,
   "metadata": {
    "_cell_guid": "e075e086-477f-4c36-b9fd-5df53e9e9448",
    "_uuid": "d4e40585-81b9-45fb-b8a3-c7b4f08db578",
    "execution": {
     "iopub.execute_input": "2020-10-02T01:08:34.126749Z",
     "iopub.status.busy": "2020-10-02T01:08:34.124945Z",
     "iopub.status.idle": "2020-10-02T01:08:34.143528Z",
     "shell.execute_reply": "2020-10-02T01:08:34.142971Z"
    },
    "papermill": {
     "duration": 0.065176,
     "end_time": "2020-10-02T01:08:34.143759",
     "exception": false,
     "start_time": "2020-10-02T01:08:34.078583",
     "status": "completed"
    },
    "tags": []
   },
   "outputs": [
    {
     "data": {
      "text/html": [
       "<div>\n",
       "<style scoped>\n",
       "    .dataframe tbody tr th:only-of-type {\n",
       "        vertical-align: middle;\n",
       "    }\n",
       "\n",
       "    .dataframe tbody tr th {\n",
       "        vertical-align: top;\n",
       "    }\n",
       "\n",
       "    .dataframe thead th {\n",
       "        text-align: right;\n",
       "    }\n",
       "</style>\n",
       "<table border=\"1\" class=\"dataframe\">\n",
       "  <thead>\n",
       "    <tr style=\"text-align: right;\">\n",
       "      <th></th>\n",
       "      <th>Data</th>\n",
       "      <th>IPCA</th>\n",
       "    </tr>\n",
       "  </thead>\n",
       "  <tbody>\n",
       "    <tr>\n",
       "      <th>0</th>\n",
       "      <td>01/01/2020</td>\n",
       "      <td>4.19</td>\n",
       "    </tr>\n",
       "    <tr>\n",
       "      <th>1</th>\n",
       "      <td>01/02/2020</td>\n",
       "      <td>4.01</td>\n",
       "    </tr>\n",
       "    <tr>\n",
       "      <th>2</th>\n",
       "      <td>01/03/2020</td>\n",
       "      <td>3.30</td>\n",
       "    </tr>\n",
       "    <tr>\n",
       "      <th>3</th>\n",
       "      <td>01/04/2020</td>\n",
       "      <td>2.40</td>\n",
       "    </tr>\n",
       "    <tr>\n",
       "      <th>4</th>\n",
       "      <td>01/05/2020</td>\n",
       "      <td>1.88</td>\n",
       "    </tr>\n",
       "    <tr>\n",
       "      <th>5</th>\n",
       "      <td>01/06/2020</td>\n",
       "      <td>2.13</td>\n",
       "    </tr>\n",
       "  </tbody>\n",
       "</table>\n",
       "</div>"
      ],
      "text/plain": [
       "         Data  IPCA\n",
       "0  01/01/2020  4.19\n",
       "1  01/02/2020  4.01\n",
       "2  01/03/2020  3.30\n",
       "3  01/04/2020  2.40\n",
       "4  01/05/2020  1.88\n",
       "5  01/06/2020  2.13"
      ]
     },
     "execution_count": 12,
     "metadata": {},
     "output_type": "execute_result"
    }
   ],
   "source": [
    "pred_ipca = ipca.iloc[:6 , :]\n",
    "pred_ipca"
   ]
  },
  {
   "cell_type": "markdown",
   "metadata": {
    "_cell_guid": "6a5b8e50-c53c-4637-a21c-adcc2c28f8f3",
    "_uuid": "c0e504ab-1930-43f2-9e61-15ffa0205015",
    "papermill": {
     "duration": 0.043164,
     "end_time": "2020-10-02T01:08:34.227430",
     "exception": false,
     "start_time": "2020-10-02T01:08:34.184266",
     "status": "completed"
    },
    "tags": []
   },
   "source": [
    "Vamos agora instalar e importar a biblioteca ``ARIMA`` para conseguir a previsão da economia brasileira para 2021:"
   ]
  },
  {
   "cell_type": "code",
   "execution_count": 13,
   "metadata": {
    "_cell_guid": "94d93091-3963-4997-9e2a-2f33486705fc",
    "_uuid": "586f0842-de9c-4606-bbc2-b8fbef0545a7",
    "execution": {
     "iopub.execute_input": "2020-10-02T01:08:34.316004Z",
     "iopub.status.busy": "2020-10-02T01:08:34.315209Z",
     "iopub.status.idle": "2020-10-02T01:09:07.658124Z",
     "shell.execute_reply": "2020-10-02T01:09:07.657545Z"
    },
    "papermill": {
     "duration": 33.393863,
     "end_time": "2020-10-02T01:09:07.658254",
     "exception": false,
     "start_time": "2020-10-02T01:08:34.264391",
     "status": "completed"
    },
    "tags": []
   },
   "outputs": [
    {
     "name": "stdout",
     "output_type": "stream",
     "text": [
      "Collecting pmdarima\r\n",
      "  Downloading pmdarima-1.7.1-cp37-cp37m-manylinux1_x86_64.whl (1.5 MB)\r\n",
      "\u001b[K     |████████████████████████████████| 1.5 MB 401 kB/s \r\n",
      "\u001b[?25hRequirement already satisfied: scikit-learn>=0.22 in /opt/conda/lib/python3.7/site-packages (from pmdarima) (0.23.2)\r\n",
      "Collecting Cython<0.29.18,>=0.29\r\n",
      "  Downloading Cython-0.29.17-cp37-cp37m-manylinux1_x86_64.whl (2.1 MB)\r\n",
      "\u001b[K     |████████████████████████████████| 2.1 MB 3.6 MB/s \r\n",
      "\u001b[?25hRequirement already satisfied: pandas>=0.19 in /opt/conda/lib/python3.7/site-packages (from pmdarima) (1.1.2)\r\n",
      "Requirement already satisfied: scipy>=1.3.2 in /opt/conda/lib/python3.7/site-packages (from pmdarima) (1.4.1)\r\n",
      "Requirement already satisfied: setuptools<50.0.0 in /opt/conda/lib/python3.7/site-packages (from pmdarima) (46.1.3.post20200325)\r\n",
      "Requirement already satisfied: statsmodels<0.12,>=0.11 in /opt/conda/lib/python3.7/site-packages (from pmdarima) (0.11.1)\r\n",
      "Requirement already satisfied: urllib3 in /opt/conda/lib/python3.7/site-packages (from pmdarima) (1.24.3)\r\n",
      "Requirement already satisfied: joblib>=0.11 in /opt/conda/lib/python3.7/site-packages (from pmdarima) (0.14.1)\r\n",
      "Requirement already satisfied: numpy>=1.17.3 in /opt/conda/lib/python3.7/site-packages (from pmdarima) (1.18.5)\r\n",
      "Requirement already satisfied: threadpoolctl>=2.0.0 in /opt/conda/lib/python3.7/site-packages (from scikit-learn>=0.22->pmdarima) (2.1.0)\r\n",
      "Requirement already satisfied: pytz>=2017.2 in /opt/conda/lib/python3.7/site-packages (from pandas>=0.19->pmdarima) (2019.3)\r\n",
      "Requirement already satisfied: python-dateutil>=2.7.3 in /opt/conda/lib/python3.7/site-packages (from pandas>=0.19->pmdarima) (2.8.1)\r\n",
      "Requirement already satisfied: patsy>=0.5 in /opt/conda/lib/python3.7/site-packages (from statsmodels<0.12,>=0.11->pmdarima) (0.5.1)\r\n",
      "Requirement already satisfied: six>=1.5 in /opt/conda/lib/python3.7/site-packages (from python-dateutil>=2.7.3->pandas>=0.19->pmdarima) (1.14.0)\r\n",
      "Installing collected packages: Cython, pmdarima\r\n",
      "  Attempting uninstall: Cython\r\n",
      "    Found existing installation: Cython 0.29.21\r\n",
      "    Uninstalling Cython-0.29.21:\r\n",
      "      Successfully uninstalled Cython-0.29.21\r\n",
      "Successfully installed Cython-0.29.17 pmdarima-1.7.1\r\n"
     ]
    }
   ],
   "source": [
    "!pip install pmdarima"
   ]
  },
  {
   "cell_type": "code",
   "execution_count": 14,
   "metadata": {
    "_cell_guid": "51e12fb2-4902-40ae-8bf0-effaef0647ec",
    "_uuid": "a7498b30-afdd-47aa-86e9-a42b72762055",
    "execution": {
     "iopub.execute_input": "2020-10-02T01:09:07.737767Z",
     "iopub.status.busy": "2020-10-02T01:09:07.737105Z",
     "iopub.status.idle": "2020-10-02T01:09:08.623952Z",
     "shell.execute_reply": "2020-10-02T01:09:08.623358Z"
    },
    "papermill": {
     "duration": 0.929278,
     "end_time": "2020-10-02T01:09:08.624083",
     "exception": false,
     "start_time": "2020-10-02T01:09:07.694805",
     "status": "completed"
    },
    "tags": []
   },
   "outputs": [],
   "source": [
    "from pmdarima.arima import auto_arima"
   ]
  },
  {
   "cell_type": "markdown",
   "metadata": {
    "_cell_guid": "76b0afa8-d53d-47bc-9c8f-ef31395172cb",
    "_uuid": "039f3308-6d18-4a4b-bb58-29dd586dd73f",
    "papermill": {
     "duration": 0.036906,
     "end_time": "2020-10-02T01:09:08.697696",
     "exception": false,
     "start_time": "2020-10-02T01:09:08.660790",
     "status": "completed"
    },
    "tags": []
   },
   "source": [
    "Vamos primeiro prever a Meta para a Taxa Selic. Vou prever para os próximos 12 meses, o que implica no segundo semestre de 2020 e os seis primeiros meses para 2021. Do dia 01/07/2020 até 30/06/2021 são 365 dias, sendo 253 úteis, 104 fins de semana e 10 feriados. O ``ARIMA`` acaba contabilizando esses 104 fins de semana e 10 feriados, então terei que usar todos os dias dos próximos 12 meses e só assim teremos as previsões até o dia 30/06/2021."
   ]
  },
  {
   "cell_type": "markdown",
   "metadata": {
    "_cell_guid": "ea2a038f-66c9-4b35-94cb-d2bd14f9ddca",
    "_uuid": "c5333b6f-d4c8-41c8-895b-2c6bf22cc4cf",
    "papermill": {
     "duration": 0.037095,
     "end_time": "2020-10-02T01:09:08.771505",
     "exception": false,
     "start_time": "2020-10-02T01:09:08.734410",
     "status": "completed"
    },
    "tags": []
   },
   "source": [
    "Para a realização da previsão do modelo, será necessário mudar o formato da data para aaaa-mm-dd e atualmente o nossa data está no formato dd/mm/aaaa"
   ]
  },
  {
   "cell_type": "code",
   "execution_count": 15,
   "metadata": {
    "_cell_guid": "4ba1d1d7-2df1-4345-8be2-6d9c45bd8b9d",
    "_uuid": "a2e14f00-ff68-40cd-891f-0086ed8e30c5",
    "execution": {
     "iopub.execute_input": "2020-10-02T01:09:08.857357Z",
     "iopub.status.busy": "2020-10-02T01:09:08.856605Z",
     "iopub.status.idle": "2020-10-02T01:09:08.859768Z",
     "shell.execute_reply": "2020-10-02T01:09:08.860729Z"
    },
    "papermill": {
     "duration": 0.051057,
     "end_time": "2020-10-02T01:09:08.860928",
     "exception": false,
     "start_time": "2020-10-02T01:09:08.809871",
     "status": "completed"
    },
    "tags": []
   },
   "outputs": [
    {
     "name": "stderr",
     "output_type": "stream",
     "text": [
      "/opt/conda/lib/python3.7/site-packages/pandas/core/indexing.py:1745: SettingWithCopyWarning:\n",
      "\n",
      "\n",
      "A value is trying to be set on a copy of a slice from a DataFrame.\n",
      "Try using .loc[row_indexer,col_indexer] = value instead\n",
      "\n",
      "See the caveats in the documentation: https://pandas.pydata.org/pandas-docs/stable/user_guide/indexing.html#returning-a-view-versus-a-copy\n",
      "\n"
     ]
    }
   ],
   "source": [
    "pred_selic.loc[:, \"DateTime\"] = pred_selic.DateTime.map(pd.Timestamp)\n",
    "pred_ipca.loc[:, \"Data\"] = pred_ipca.Data.map(pd.Timestamp)"
   ]
  },
  {
   "cell_type": "markdown",
   "metadata": {
    "_cell_guid": "14d24a51-6f3e-4729-ba79-73df115e6d9b",
    "_uuid": "7ec3f9aa-fcd7-40e2-9209-4c0ade92f712",
    "papermill": {
     "duration": 0.036587,
     "end_time": "2020-10-02T01:09:08.935680",
     "exception": false,
     "start_time": "2020-10-02T01:09:08.899093",
     "status": "completed"
    },
    "tags": []
   },
   "source": [
    "Por fim, agora é só fazer as últimas codificações para estar no formato correto para a realização da previsão, é necessário tirar as colunas que não serão usadas para a previsão."
   ]
  },
  {
   "cell_type": "code",
   "execution_count": 16,
   "metadata": {
    "_cell_guid": "dec2d23f-bbb1-4eb4-8a64-2ac9f7707a07",
    "_uuid": "83016c5c-fe9b-4dd2-9bb1-7572d82645ba",
    "execution": {
     "iopub.execute_input": "2020-10-02T01:09:09.016866Z",
     "iopub.status.busy": "2020-10-02T01:09:09.015880Z",
     "iopub.status.idle": "2020-10-02T01:09:09.019108Z",
     "shell.execute_reply": "2020-10-02T01:09:09.018471Z"
    },
    "papermill": {
     "duration": 0.046127,
     "end_time": "2020-10-02T01:09:09.019220",
     "exception": false,
     "start_time": "2020-10-02T01:09:08.973093",
     "status": "completed"
    },
    "tags": []
   },
   "outputs": [],
   "source": [
    "pred_selic2 = pred_selic.Selic\n",
    "pred_ipca2 = pred_ipca.IPCA"
   ]
  },
  {
   "cell_type": "code",
   "execution_count": 17,
   "metadata": {
    "_cell_guid": "c8861553-c0fa-408c-873c-6602808e6edc",
    "_uuid": "71369e2a-7ba8-4ec2-a3c5-2b3abb6e68ec",
    "execution": {
     "iopub.execute_input": "2020-10-02T01:09:09.102020Z",
     "iopub.status.busy": "2020-10-02T01:09:09.101313Z",
     "iopub.status.idle": "2020-10-02T01:09:09.104346Z",
     "shell.execute_reply": "2020-10-02T01:09:09.103711Z"
    },
    "papermill": {
     "duration": 0.047642,
     "end_time": "2020-10-02T01:09:09.104459",
     "exception": false,
     "start_time": "2020-10-02T01:09:09.056817",
     "status": "completed"
    },
    "tags": []
   },
   "outputs": [],
   "source": [
    "pred_selic = selic.iloc[:182 , :]\n",
    "pred_selic.index = pred_selic.DateTime\n",
    "pred_ipca = ipca.iloc[:6 , :]\n",
    "pred_ipca.index = pred_ipca.Data"
   ]
  },
  {
   "cell_type": "markdown",
   "metadata": {
    "_cell_guid": "0078cd45-f11e-4433-ad60-a5393577b8fc",
    "_uuid": "0351004e-3987-4f98-9f5b-8029a5687f7c",
    "papermill": {
     "duration": 0.037103,
     "end_time": "2020-10-02T01:09:09.179280",
     "exception": false,
     "start_time": "2020-10-02T01:09:09.142177",
     "status": "completed"
    },
    "tags": []
   },
   "source": [
    "## Prevendo a Taxa Selic:"
   ]
  },
  {
   "cell_type": "code",
   "execution_count": 18,
   "metadata": {
    "_cell_guid": "fdeb8ca6-b13f-431e-a784-5b0fc116a197",
    "_uuid": "5cdea42a-73ab-4269-b807-79ac0b2cdc50",
    "execution": {
     "iopub.execute_input": "2020-10-02T01:09:09.304811Z",
     "iopub.status.busy": "2020-10-02T01:09:09.281986Z",
     "iopub.status.idle": "2020-10-02T01:09:10.154610Z",
     "shell.execute_reply": "2020-10-02T01:09:10.153922Z"
    },
    "papermill": {
     "duration": 0.937644,
     "end_time": "2020-10-02T01:09:10.154729",
     "exception": false,
     "start_time": "2020-10-02T01:09:09.217085",
     "status": "completed"
    },
    "tags": []
   },
   "outputs": [
    {
     "name": "stderr",
     "output_type": "stream",
     "text": [
      "/opt/conda/lib/python3.7/site-packages/statsmodels/base/model.py:568: ConvergenceWarning:\n",
      "\n",
      "Maximum Likelihood optimization failed to converge. Check mle_retvals\n",
      "\n"
     ]
    }
   ],
   "source": [
    "modelo_selic = auto_arima(pred_selic2)\n",
    "previsao_selic = modelo_selic.predict(365)"
   ]
  },
  {
   "cell_type": "code",
   "execution_count": 19,
   "metadata": {
    "_cell_guid": "4ec75f7b-af6c-4fb0-a24b-b13cbb3210bc",
    "_uuid": "dc001bfd-0d66-4a47-84b0-5dc6de6b25ba",
    "execution": {
     "iopub.execute_input": "2020-10-02T01:09:10.253452Z",
     "iopub.status.busy": "2020-10-02T01:09:10.251135Z",
     "iopub.status.idle": "2020-10-02T01:09:10.560598Z",
     "shell.execute_reply": "2020-10-02T01:09:10.559942Z"
    },
    "papermill": {
     "duration": 0.367018,
     "end_time": "2020-10-02T01:09:10.560710",
     "exception": false,
     "start_time": "2020-10-02T01:09:10.193692",
     "status": "completed"
    },
    "tags": []
   },
   "outputs": [
    {
     "data": {
      "image/png": "[encoded data removed]",
      "text/plain": [
       "<Figure size 1080x576 with 1 Axes>"
      ]
     },
     "metadata": {},
     "output_type": "display_data"
    }
   ],
   "source": [
    "sns.set()\n",
    "plt.figure(figsize=(15,8))\n",
    "plt.plot(pd.date_range('2020-07-01', '2021-06-30'), previsao_selic)\n",
    "plt.ylabel('')\n",
    "plt.xlabel('')\n",
    "plt.title('Selic nos próximos 12 meses', fontsize = 20);\n",
    "plt.show()"
   ]
  },
  {
   "cell_type": "markdown",
   "metadata": {
    "_cell_guid": "c585227c-5453-4aa8-81aa-3034a1791e75",
    "_uuid": "e7ea937a-8795-42d8-9155-fe665868249d",
    "papermill": {
     "duration": 0.038572,
     "end_time": "2020-10-02T01:09:10.638520",
     "exception": false,
     "start_time": "2020-10-02T01:09:10.599948",
     "status": "completed"
    },
    "tags": []
   },
   "source": [
    "## Prevendo o IPCA:"
   ]
  },
  {
   "cell_type": "code",
   "execution_count": 20,
   "metadata": {
    "_cell_guid": "6b023e08-c747-4807-aca2-40af91573bd9",
    "_uuid": "020a8e16-8849-43ac-98d7-142bcd94a7be",
    "execution": {
     "iopub.execute_input": "2020-10-02T01:09:10.725662Z",
     "iopub.status.busy": "2020-10-02T01:09:10.724218Z",
     "iopub.status.idle": "2020-10-02T01:09:11.605444Z",
     "shell.execute_reply": "2020-10-02T01:09:11.604902Z"
    },
    "papermill": {
     "duration": 0.927965,
     "end_time": "2020-10-02T01:09:11.605587",
     "exception": false,
     "start_time": "2020-10-02T01:09:10.677622",
     "status": "completed"
    },
    "tags": []
   },
   "outputs": [
    {
     "name": "stderr",
     "output_type": "stream",
     "text": [
      "/opt/conda/lib/python3.7/site-packages/statsmodels/tsa/statespace/sarimax.py:975: UserWarning:\n",
      "\n",
      "Non-invertible starting MA parameters found. Using zeros as starting parameters.\n",
      "\n",
      "/opt/conda/lib/python3.7/site-packages/statsmodels/base/model.py:568: ConvergenceWarning:\n",
      "\n",
      "Maximum Likelihood optimization failed to converge. Check mle_retvals\n",
      "\n",
      "/opt/conda/lib/python3.7/site-packages/statsmodels/tsa/statespace/sarimax.py:975: UserWarning:\n",
      "\n",
      "Non-invertible starting MA parameters found. Using zeros as starting parameters.\n",
      "\n",
      "/opt/conda/lib/python3.7/site-packages/statsmodels/base/model.py:568: ConvergenceWarning:\n",
      "\n",
      "Maximum Likelihood optimization failed to converge. Check mle_retvals\n",
      "\n",
      "/opt/conda/lib/python3.7/site-packages/statsmodels/tsa/statespace/sarimax.py:963: UserWarning:\n",
      "\n",
      "Non-stationary starting autoregressive parameters found. Using zeros as starting parameters.\n",
      "\n",
      "/opt/conda/lib/python3.7/site-packages/statsmodels/tsa/statespace/sarimax.py:868: UserWarning:\n",
      "\n",
      "Too few observations to estimate starting parameters for ARMA and trend. All parameters except for variances will be set to zeros.\n",
      "\n",
      "/opt/conda/lib/python3.7/site-packages/statsmodels/base/model.py:568: ConvergenceWarning:\n",
      "\n",
      "Maximum Likelihood optimization failed to converge. Check mle_retvals\n",
      "\n",
      "/opt/conda/lib/python3.7/site-packages/statsmodels/tsa/statespace/sarimax.py:868: UserWarning:\n",
      "\n",
      "Too few observations to estimate starting parameters for ARMA and trend. All parameters except for variances will be set to zeros.\n",
      "\n",
      "/opt/conda/lib/python3.7/site-packages/statsmodels/base/model.py:568: ConvergenceWarning:\n",
      "\n",
      "Maximum Likelihood optimization failed to converge. Check mle_retvals\n",
      "\n",
      "/opt/conda/lib/python3.7/site-packages/statsmodels/tsa/statespace/sarimax.py:963: UserWarning:\n",
      "\n",
      "Non-stationary starting autoregressive parameters found. Using zeros as starting parameters.\n",
      "\n",
      "/opt/conda/lib/python3.7/site-packages/statsmodels/tsa/statespace/sarimax.py:975: UserWarning:\n",
      "\n",
      "Non-invertible starting MA parameters found. Using zeros as starting parameters.\n",
      "\n"
     ]
    }
   ],
   "source": [
    "modelo_ipca = auto_arima(pred_ipca2)\n",
    "previsao_ipca = modelo_ipca.predict(365)"
   ]
  },
  {
   "cell_type": "code",
   "execution_count": 21,
   "metadata": {
    "_cell_guid": "6bf9cc33-1e0f-468e-8254-6a33e16a5da7",
    "_uuid": "bf737a85-6d72-48da-9723-dbe18ff028ba",
    "execution": {
     "iopub.execute_input": "2020-10-02T01:09:11.700259Z",
     "iopub.status.busy": "2020-10-02T01:09:11.693880Z",
     "iopub.status.idle": "2020-10-02T01:09:12.009918Z",
     "shell.execute_reply": "2020-10-02T01:09:12.010451Z"
    },
    "papermill": {
     "duration": 0.364396,
     "end_time": "2020-10-02T01:09:12.010612",
     "exception": false,
     "start_time": "2020-10-02T01:09:11.646216",
     "status": "completed"
    },
    "tags": []
   },
   "outputs": [
    {
     "data": {
      "image/png": "[encoded data removed]",
      "text/plain": [
       "<Figure size 1080x576 with 1 Axes>"
      ]
     },
     "metadata": {},
     "output_type": "display_data"
    }
   ],
   "source": [
    "sns.set()\n",
    "plt.figure(figsize=(15,8))\n",
    "plt.plot(pd.date_range('2020-07-01', '2021-06-30'), previsao_ipca)\n",
    "plt.ylabel('')\n",
    "plt.xlabel('')\n",
    "plt.title('IPCA nos próximos 12 meses', fontsize = 20);\n",
    "plt.show()"
   ]
  },
  {
   "cell_type": "markdown",
   "metadata": {
    "_cell_guid": "7c07a582-fb1e-47b3-8067-7753b2c0e411",
    "_uuid": "49ea2aa1-5437-4db3-8e60-87be40127c45",
    "papermill": {
     "duration": 0.043392,
     "end_time": "2020-10-02T01:09:12.097196",
     "exception": false,
     "start_time": "2020-10-02T01:09:12.053804",
     "status": "completed"
    },
    "tags": []
   },
   "source": [
    "## Analisando os dois índices juntos:"
   ]
  },
  {
   "cell_type": "code",
   "execution_count": 22,
   "metadata": {
    "_cell_guid": "1ee3e8a9-6302-4702-94d9-40b1a32cab1e",
    "_uuid": "a51d9ff8-edb6-400c-89a1-acc93c00d3b0",
    "execution": {
     "iopub.execute_input": "2020-10-02T01:09:12.345900Z",
     "iopub.status.busy": "2020-10-02T01:09:12.344991Z",
     "iopub.status.idle": "2020-10-02T01:09:12.354348Z",
     "shell.execute_reply": "2020-10-02T01:09:12.353691Z"
    },
    "papermill": {
     "duration": 0.213379,
     "end_time": "2020-10-02T01:09:12.354466",
     "exception": false,
     "start_time": "2020-10-02T01:09:12.141087",
     "status": "completed"
    },
    "tags": []
   },
   "outputs": [
    {
     "data": {
      "text/html": [
       "<div>                            <div id=\"591c2320-06e1-486a-9dd9-5c2a3c2a3846\" class=\"plotly-graph-div\" style=\"height:525px; width:100%;\"></div>            <script type=\"text/javascript\">                require([\"plotly\"], function(Plotly) {                    window.PLOTLYENV=window.PLOTLYENV || {};                                    if (document.getElementById(\"591c2320-06e1-486a-9dd9-5c2a3c2a3846\")) {                    Plotly.newPlot(                        \"591c2320-06e1-486a-9dd9-5c2a3c2a3846\",                        [{\"name\": \"Previs\\u00e3o da Meta para a Taxa Selic\", \"type\": \"scatter\", \"x\": [\"2020-07-01T00:00:00\", \"2020-07-02T00:00:00\", \"2020-07-03T00:00:00\", \"2020-07-04T00:00:00\", \"2020-07-05T00:00:00\", \"2020-07-06T00:00:00\", \"2020-07-07T00:00:00\", \"2020-07-08T00:00:00\", \"2020-07-09T00:00:00\", \"2020-07-10T00:00:00\", \"2020-07-11T00:00:00\", \"2020-07-12T00:00:00\", \"2020-07-13T00:00:00\", \"2020-07-14T00:00:00\", \"2020-07-15T00:00:00\", \"2020-07-16T00:00:00\", \"2020-07-17T00:00:00\", \"2020-07-18T00:00:00\", \"2020-07-19T00:00:00\", \"2020-07-20T00:00:00\", \"2020-07-21T00:00:00\", \"2020-07-22T00:00:00\", \"2020-07-23T00:00:00\", \"2020-07-24T00:00:00\", \"2020-07-25T00:00:00\", \"2020-07-26T00:00:00\", \"2020-07-27T00:00:00\", \"2020-07-28T00:00:00\", \"2020-07-29T00:00:00\", \"2020-07-30T00:00:00\", \"2020-07-31T00:00:00\", \"2020-08-01T00:00:00\", \"2020-08-02T00:00:00\", \"2020-08-03T00:00:00\", \"2020-08-04T00:00:00\", \"2020-08-05T00:00:00\", \"2020-08-06T00:00:00\", \"2020-08-07T00:00:00\", \"2020-08-08T00:00:00\", \"2020-08-09T00:00:00\", \"2020-08-10T00:00:00\", \"2020-08-11T00:00:00\", \"2020-08-12T00:00:00\", \"2020-08-13T00:00:00\", \"2020-08-14T00:00:00\", \"2020-08-15T00:00:00\", \"2020-08-16T00:00:00\", \"2020-08-17T00:00:00\", \"2020-08-18T00:00:00\", \"2020-08-19T00:00:00\", \"2020-08-20T00:00:00\", \"2020-08-21T00:00:00\", \"2020-08-22T00:00:00\", \"2020-08-23T00:00:00\", \"2020-08-24T00:00:00\", \"2020-08-25T00:00:00\", \"2020-08-26T00:00:00\", \"2020-08-27T00:00:00\", \"2020-08-28T00:00:00\", \"2020-08-29T00:00:00\", \"2020-08-30T00:00:00\", \"2020-08-31T00:00:00\", \"2020-09-01T00:00:00\", \"2020-09-02T00:00:00\", \"2020-09-03T00:00:00\", \"2020-09-04T00:00:00\", \"2020-09-05T00:00:00\", \"2020-09-06T00:00:00\", \"2020-09-07T00:00:00\", \"2020-09-08T00:00:00\", \"2020-09-09T00:00:00\", \"2020-09-10T00:00:00\", \"2020-09-11T00:00:00\", \"2020-09-12T00:00:00\", \"2020-09-13T00:00:00\", \"2020-09-14T00:00:00\", \"2020-09-15T00:00:00\", \"2020-09-16T00:00:00\", \"2020-09-17T00:00:00\", \"2020-09-18T00:00:00\", \"2020-09-19T00:00:00\", \"2020-09-20T00:00:00\", \"2020-09-21T00:00:00\", \"2020-09-22T00:00:00\", \"2020-09-23T00:00:00\", \"2020-09-24T00:00:00\", \"2020-09-25T00:00:00\", \"2020-09-26T00:00:00\", \"2020-09-27T00:00:00\", \"2020-09-28T00:00:00\", \"2020-09-29T00:00:00\", \"2020-09-30T00:00:00\", \"2020-10-01T00:00:00\", \"2020-10-02T00:00:00\", \"2020-10-03T00:00:00\", \"2020-10-04T00:00:00\", \"2020-10-05T00:00:00\", \"2020-10-06T00:00:00\", \"2020-10-07T00:00:00\", \"2020-10-08T00:00:00\", \"2020-10-09T00:00:00\", \"2020-10-10T00:00:00\", \"2020-10-11T00:00:00\", \"2020-10-12T00:00:00\", \"2020-10-13T00:00:00\", \"2020-10-14T00:00:00\", \"2020-10-15T00:00:00\", \"2020-10-16T00:00:00\", \"2020-10-17T00:00:00\", \"2020-10-18T00:00:00\", \"2020-10-19T00:00:00\", \"2020-10-20T00:00:00\", \"2020-10-21T00:00:00\", \"2020-10-22T00:00:00\", \"2020-10-23T00:00:00\", \"2020-10-24T00:00:00\", \"2020-10-25T00:00:00\", \"2020-10-26T00:00:00\", \"2020-10-27T00:00:00\", \"2020-10-28T00:00:00\", \"2020-10-29T00:00:00\", \"2020-10-30T00:00:00\", \"2020-10-31T00:00:00\", \"2020-11-01T00:00:00\", \"2020-11-02T00:00:00\", \"2020-11-03T00:00:00\", \"2020-11-04T00:00:00\", \"2020-11-05T00:00:00\", \"2020-11-06T00:00:00\", \"2020-11-07T00:00:00\", \"2020-11-08T00:00:00\", \"2020-11-09T00:00:00\", \"2020-11-10T00:00:00\", \"2020-11-11T00:00:00\", \"2020-11-12T00:00:00\", \"2020-11-13T00:00:00\", \"2020-11-14T00:00:00\", \"2020-11-15T00:00:00\", \"2020-11-16T00:00:00\", \"2020-11-17T00:00:00\", \"2020-11-18T00:00:00\", \"2020-11-19T00:00:00\", \"2020-11-20T00:00:00\", \"2020-11-21T00:00:00\", \"2020-11-22T00:00:00\", \"2020-11-23T00:00:00\", \"2020-11-24T00:00:00\", \"2020-11-25T00:00:00\", \"2020-11-26T00:00:00\", \"2020-11-27T00:00:00\", \"2020-11-28T00:00:00\", \"2020-11-29T00:00:00\", \"2020-11-30T00:00:00\", \"2020-12-01T00:00:00\", \"2020-12-02T00:00:00\", \"2020-12-03T00:00:00\", \"2020-12-04T00:00:00\", \"2020-12-05T00:00:00\", \"2020-12-06T00:00:00\", \"2020-12-07T00:00:00\", \"2020-12-08T00:00:00\", \"2020-12-09T00:00:00\", \"2020-12-10T00:00:00\", \"2020-12-11T00:00:00\", \"2020-12-12T00:00:00\", \"2020-12-13T00:00:00\", \"2020-12-14T00:00:00\", \"2020-12-15T00:00:00\", \"2020-12-16T00:00:00\", \"2020-12-17T00:00:00\", \"2020-12-18T00:00:00\", \"2020-12-19T00:00:00\", \"2020-12-20T00:00:00\", \"2020-12-21T00:00:00\", \"2020-12-22T00:00:00\", \"2020-12-23T00:00:00\", \"2020-12-24T00:00:00\", \"2020-12-25T00:00:00\", \"2020-12-26T00:00:00\", \"2020-12-27T00:00:00\", \"2020-12-28T00:00:00\", \"2020-12-29T00:00:00\", \"2020-12-30T00:00:00\", \"2020-12-31T00:00:00\", \"2021-01-01T00:00:00\", \"2021-01-02T00:00:00\", \"2021-01-03T00:00:00\", \"2021-01-04T00:00:00\", \"2021-01-05T00:00:00\", \"2021-01-06T00:00:00\", \"2021-01-07T00:00:00\", \"2021-01-08T00:00:00\", \"2021-01-09T00:00:00\", \"2021-01-10T00:00:00\", \"2021-01-11T00:00:00\", \"2021-01-12T00:00:00\", \"2021-01-13T00:00:00\", \"2021-01-14T00:00:00\", \"2021-01-15T00:00:00\", \"2021-01-16T00:00:00\", \"2021-01-17T00:00:00\", \"2021-01-18T00:00:00\", \"2021-01-19T00:00:00\", \"2021-01-20T00:00:00\", \"2021-01-21T00:00:00\", \"2021-01-22T00:00:00\", \"2021-01-23T00:00:00\", \"2021-01-24T00:00:00\", \"2021-01-25T00:00:00\", \"2021-01-26T00:00:00\", \"2021-01-27T00:00:00\", \"2021-01-28T00:00:00\", \"2021-01-29T00:00:00\", \"2021-01-30T00:00:00\", \"2021-01-31T00:00:00\", \"2021-02-01T00:00:00\", \"2021-02-02T00:00:00\", \"2021-02-03T00:00:00\", \"2021-02-04T00:00:00\", \"2021-02-05T00:00:00\", \"2021-02-06T00:00:00\", \"2021-02-07T00:00:00\", \"2021-02-08T00:00:00\", \"2021-02-09T00:00:00\", \"2021-02-10T00:00:00\", \"2021-02-11T00:00:00\", \"2021-02-12T00:00:00\", \"2021-02-13T00:00:00\", \"2021-02-14T00:00:00\", \"2021-02-15T00:00:00\", \"2021-02-16T00:00:00\", \"2021-02-17T00:00:00\", \"2021-02-18T00:00:00\", \"2021-02-19T00:00:00\", \"2021-02-20T00:00:00\", \"2021-02-21T00:00:00\", \"2021-02-22T00:00:00\", \"2021-02-23T00:00:00\", \"2021-02-24T00:00:00\", \"2021-02-25T00:00:00\", \"2021-02-26T00:00:00\", \"2021-02-27T00:00:00\", \"2021-02-28T00:00:00\", \"2021-03-01T00:00:00\", \"2021-03-02T00:00:00\", \"2021-03-03T00:00:00\", \"2021-03-04T00:00:00\", \"2021-03-05T00:00:00\", \"2021-03-06T00:00:00\", \"2021-03-07T00:00:00\", \"2021-03-08T00:00:00\", \"2021-03-09T00:00:00\", \"2021-03-10T00:00:00\", \"2021-03-11T00:00:00\", \"2021-03-12T00:00:00\", \"2021-03-13T00:00:00\", \"2021-03-14T00:00:00\", \"2021-03-15T00:00:00\", \"2021-03-16T00:00:00\", \"2021-03-17T00:00:00\", \"2021-03-18T00:00:00\", \"2021-03-19T00:00:00\", \"2021-03-20T00:00:00\", \"2021-03-21T00:00:00\", \"2021-03-22T00:00:00\", \"2021-03-23T00:00:00\", \"2021-03-24T00:00:00\", \"2021-03-25T00:00:00\", \"2021-03-26T00:00:00\", \"2021-03-27T00:00:00\", \"2021-03-28T00:00:00\", \"2021-03-29T00:00:00\", \"2021-03-30T00:00:00\", \"2021-03-31T00:00:00\", \"2021-04-01T00:00:00\", \"2021-04-02T00:00:00\", \"2021-04-03T00:00:00\", \"2021-04-04T00:00:00\", \"2021-04-05T00:00:00\", \"2021-04-06T00:00:00\", \"2021-04-07T00:00:00\", \"2021-04-08T00:00:00\", \"2021-04-09T00:00:00\", \"2021-04-10T00:00:00\", \"2021-04-11T00:00:00\", \"2021-04-12T00:00:00\", \"2021-04-13T00:00:00\", \"2021-04-14T00:00:00\", \"2021-04-15T00:00:00\", \"2021-04-16T00:00:00\", \"2021-04-17T00:00:00\", \"2021-04-18T00:00:00\", \"2021-04-19T00:00:00\", \"2021-04-20T00:00:00\", \"2021-04-21T00:00:00\", \"2021-04-22T00:00:00\", \"2021-04-23T00:00:00\", \"2021-04-24T00:00:00\", \"2021-04-25T00:00:00\", \"2021-04-26T00:00:00\", \"2021-04-27T00:00:00\", \"2021-04-28T00:00:00\", \"2021-04-29T00:00:00\", \"2021-04-30T00:00:00\", \"2021-05-01T00:00:00\", \"2021-05-02T00:00:00\", \"2021-05-03T00:00:00\", \"2021-05-04T00:00:00\", \"2021-05-05T00:00:00\", \"2021-05-06T00:00:00\", \"2021-05-07T00:00:00\", \"2021-05-08T00:00:00\", \"2021-05-09T00:00:00\", \"2021-05-10T00:00:00\", \"2021-05-11T00:00:00\", \"2021-05-12T00:00:00\", \"2021-05-13T00:00:00\", \"2021-05-14T00:00:00\", \"2021-05-15T00:00:00\", \"2021-05-16T00:00:00\", \"2021-05-17T00:00:00\", \"2021-05-18T00:00:00\", \"2021-05-19T00:00:00\", \"2021-05-20T00:00:00\", \"2021-05-21T00:00:00\", \"2021-05-22T00:00:00\", \"2021-05-23T00:00:00\", \"2021-05-24T00:00:00\", \"2021-05-25T00:00:00\", \"2021-05-26T00:00:00\", \"2021-05-27T00:00:00\", \"2021-05-28T00:00:00\", \"2021-05-29T00:00:00\", \"2021-05-30T00:00:00\", \"2021-05-31T00:00:00\", \"2021-06-01T00:00:00\", \"2021-06-02T00:00:00\", \"2021-06-03T00:00:00\", \"2021-06-04T00:00:00\", \"2021-06-05T00:00:00\", \"2021-06-06T00:00:00\", \"2021-06-07T00:00:00\", \"2021-06-08T00:00:00\", \"2021-06-09T00:00:00\", \"2021-06-10T00:00:00\", \"2021-06-11T00:00:00\", \"2021-06-12T00:00:00\", \"2021-06-13T00:00:00\", \"2021-06-14T00:00:00\", \"2021-06-15T00:00:00\", \"2021-06-16T00:00:00\", \"2021-06-17T00:00:00\", \"2021-06-18T00:00:00\", \"2021-06-19T00:00:00\", \"2021-06-20T00:00:00\", \"2021-06-21T00:00:00\", \"2021-06-22T00:00:00\", \"2021-06-23T00:00:00\", \"2021-06-24T00:00:00\", \"2021-06-25T00:00:00\", \"2021-06-26T00:00:00\", \"2021-06-27T00:00:00\", \"2021-06-28T00:00:00\", \"2021-06-29T00:00:00\", \"2021-06-30T00:00:00\"], \"y\": [2.2375690440587337, 2.2251380881174674, 2.212707132176201, 2.2002761762349348, 2.1878452202936685, 2.175414264352402, 2.162983308411136, 2.1505523524698695, 2.1381213965286032, 2.125690440587337, 2.1132594846460706, 2.1008285287048043, 2.088397572763538, 2.0759666168222717, 2.0635356608810054, 2.051104704939739, 2.0386737489984728, 2.0262427930572064, 2.01381183711594, 2.001380881174674, 1.9889499252334075, 1.9765189692921412, 1.964088013350875, 1.9516570574096086, 1.9392261014683423, 1.926795145527076, 1.9143641895858097, 1.9019332336445434, 1.889502277703277, 1.8770713217620107, 1.8646403658207444, 1.8522094098794781, 1.8397784539382118, 1.8273474979969455, 1.8149165420556792, 1.802485586114413, 1.7900546301731466, 1.7776236742318803, 1.765192718290614, 1.7527617623493477, 1.7403308064080814, 1.727899850466815, 1.7154688945255487, 1.7030379385842824, 1.6906069826430161, 1.6781760267017498, 1.6657450707604835, 1.6533141148192172, 1.6408831588779509, 1.6284522029366846, 1.6160212469954183, 1.603590291054152, 1.5911593351128857, 1.5787283791716193, 1.566297423230353, 1.5538664672890867, 1.5414355113478204, 1.5290045554065541, 1.5165735994652878, 1.5041426435240215, 1.4917116875827552, 1.4792807316414889, 1.4668497757002226, 1.4544188197589563, 1.44198786381769, 1.4295569078764236, 1.4171259519351573, 1.404694995993891, 1.3922640400526247, 1.3798330841113584, 1.367402128170092, 1.3549711722288258, 1.3425402162875595, 1.3301092603462932, 1.3176783044050269, 1.3052473484637606, 1.2928163925224943, 1.280385436581228, 1.2679544806399616, 1.2555235246986953, 1.243092568757429, 1.2306616128161627, 1.2182306568748964, 1.20579970093363, 1.1933687449923638, 1.1809377890510975, 1.1685068331098312, 1.1560758771685649, 1.1436449212272985, 1.1312139652860322, 1.118783009344766, 1.1063520534034996, 1.0939210974622333, 1.081490141520967, 1.0690591855797007, 1.0566282296384344, 1.044197273697168, 1.0317663177559018, 1.0193353618146355, 1.0069044058733692, 0.994473449932103, 0.9820424939908368, 0.9696115380495706, 0.9571805821083044, 0.9447496261670382, 0.932318670225772, 0.9198877142845058, 0.9074567583432396, 0.8950258024019734, 0.8825948464607072, 0.870163890519441, 0.8577329345781748, 0.8453019786369086, 0.8328710226956424, 0.8204400667543762, 0.80800911081311, 0.7955781548718438, 0.7831471989305776, 0.7707162429893114, 0.7582852870480452, 0.745854331106779, 0.7334233751655128, 0.7209924192242466, 0.7085614632829804, 0.6961305073417142, 0.683699551400448, 0.6712685954591818, 0.6588376395179156, 0.6464066835766494, 0.6339757276353832, 0.621544771694117, 0.6091138157528508, 0.5966828598115846, 0.5842519038703184, 0.5718209479290522, 0.559389991987786, 0.5469590360465199, 0.5345280801052537, 0.5220971241639875, 0.5096661682227213, 0.49723521228145506, 0.48480425634018887, 0.47237330039892267, 0.45994234445765647, 0.4475113885163903, 0.4350804325751241, 0.4226494766338579, 0.4102185206925917, 0.3977875647513255, 0.3853566088100593, 0.3729256528687931, 0.3604946969275269, 0.3480637409862607, 0.3356327850449945, 0.3232018291037283, 0.3107708731624621, 0.2983399172211959, 0.2859089612799297, 0.2734780053386635, 0.2610470493973973, 0.24861609345613112, 0.23618513751486492, 0.22375418157359872, 0.21132322563233252, 0.19889226969106633, 0.18646131374980013, 0.17403035780853393, 0.16159940186726773, 0.14916844592600154, 0.13673748998473534, 0.12430653404346913, 0.11187557810220292, 0.0994446221609367, 0.0870136662196705, 0.07458271027840428, 0.06215175433713808, 0.049720798395871874, 0.03728984245460567, 0.024858886513339465, 0.012427930572073259, -3.025369192947297e-06, -0.012433981310459153, -0.02486493725172536, -0.037295893192991564, -0.04972684913425777, -0.06215780507552397, -0.07458876101679018, -0.0870197169580564, -0.0994506728993226, -0.11188162884058882, -0.12431258478185503, -0.13674354072312123, -0.14917449666438742, -0.16160545260565362, -0.17403640854691982, -0.18646736448818602, -0.1988983204294522, -0.2113292763707184, -0.2237602323119846, -0.2361911882532508, -0.248622144194517, -0.2610531001357832, -0.2734840560770494, -0.2859150120183156, -0.2983459679595818, -0.310776923900848, -0.3232078798421142, -0.3356388357833804, -0.3480697917246466, -0.3605007476659128, -0.372931703607179, -0.3853626595484452, -0.39779361548971137, -0.41022457143097757, -0.42265552737224377, -0.43508648331350996, -0.44751743925477616, -0.45994839519604236, -0.47237935113730856, -0.48481030707857475, -0.49724126301984095, -0.5096722189611071, -0.5221031749023733, -0.5345341308436395, -0.5469650867849057, -0.5593960427261719, -0.5718269986674381, -0.5842579546087043, -0.5966889105499705, -0.6091198664912367, -0.6215508224325029, -0.6339817783737691, -0.6464127343150353, -0.6588436902563015, -0.6712746461975677, -0.6837056021388339, -0.6961365580801001, -0.7085675140213663, -0.7209984699626325, -0.7334294259038987, -0.7458603818451649, -0.7582913377864311, -0.7707222937276973, -0.7831532496689635, -0.7955842056102297, -0.8080151615514959, -0.8204461174927621, -0.8328770734340283, -0.8453080293752945, -0.8577389853165607, -0.8701699412578269, -0.8826008971990931, -0.8950318531403593, -0.9074628090816255, -0.9198937650228917, -0.9323247209641579, -0.9447556769054241, -0.9571866328466903, -0.9696175887879565, -0.9820485447292226, -0.9944795006704888, -1.006910456611755, -1.0193414125530214, -1.0317723684942877, -1.044203324435554, -1.0566342803768203, -1.0690652363180866, -1.081496192259353, -1.0939271482006192, -1.1063581041418855, -1.1187890600831518, -1.1312200160244181, -1.1436509719656844, -1.1560819279069507, -1.168512883848217, -1.1809438397894834, -1.1933747957307497, -1.205805751672016, -1.2182367076132823, -1.2306676635545486, -1.243098619495815, -1.2555295754370812, -1.2679605313783475, -1.2803914873196138, -1.2928224432608801, -1.3052533992021464, -1.3176843551434128, -1.330115311084679, -1.3425462670259454, -1.3549772229672117, -1.367408178908478, -1.3798391348497443, -1.3922700907910106, -1.404701046732277, -1.4171320026735432, -1.4295629586148095, -1.4419939145560758, -1.4544248704973421, -1.4668558264386085, -1.4792867823798748, -1.491717738321141, -1.5041486942624074, -1.5165796502036737, -1.52901060614494, -1.5414415620862063, -1.5538725180274726, -1.566303473968739, -1.5787344299100052, -1.5911653858512715, -1.6035963417925378, -1.6160272977338042, -1.6284582536750705, -1.6408892096163368, -1.653320165557603, -1.6657511214988694, -1.6781820774401357, -1.690613033381402, -1.7030439893226683, -1.7154749452639346, -1.727905901205201, -1.7403368571464672, -1.7527678130877336, -1.7651987690289999, -1.7776297249702662, -1.7900606809115325, -1.8024916368527988, -1.814922592794065, -1.8273535487353314, -1.8397845046765977, -1.852215460617864, -1.8646464165591303, -1.8770773725003966, -1.889508328441663, -1.9019392843829293, -1.9143702403241956, -1.9268011962654619, -1.9392321522067282, -1.9516631081479945, -1.9640940640892608, -1.976525020030527, -1.9889559759717934, -2.0013869319130597, -2.013817887854326, -2.0262488437955923, -2.0386797997368586, -2.051110755678125, -2.0635417116193913, -2.0759726675606576, -2.088403623501924, -2.10083457944319, -2.1132655353844565, -2.125696491325723, -2.138127447266989, -2.1505584032082554, -2.1629893591495217, -2.175420315090788, -2.1878512710320543, -2.2002822269733207, -2.212713182914587, -2.2251441388558533, -2.2375750947971196, -2.250006050738386, -2.262437006679652, -2.2748679626209185, -2.287298918562185]}, {\"name\": \"Previs\\u00e3o para o IPCA\", \"type\": \"scatter\", \"x\": [\"2020-07-01T00:00:00\", \"2020-07-02T00:00:00\", \"2020-07-03T00:00:00\", \"2020-07-04T00:00:00\", \"2020-07-05T00:00:00\", \"2020-07-06T00:00:00\", \"2020-07-07T00:00:00\", \"2020-07-08T00:00:00\", \"2020-07-09T00:00:00\", \"2020-07-10T00:00:00\", \"2020-07-11T00:00:00\", \"2020-07-12T00:00:00\", \"2020-07-13T00:00:00\", \"2020-07-14T00:00:00\", \"2020-07-15T00:00:00\", \"2020-07-16T00:00:00\", \"2020-07-17T00:00:00\", \"2020-07-18T00:00:00\", \"2020-07-19T00:00:00\", \"2020-07-20T00:00:00\", \"2020-07-21T00:00:00\", \"2020-07-22T00:00:00\", \"2020-07-23T00:00:00\", \"2020-07-24T00:00:00\", \"2020-07-25T00:00:00\", \"2020-07-26T00:00:00\", \"2020-07-27T00:00:00\", \"2020-07-28T00:00:00\", \"2020-07-29T00:00:00\", \"2020-07-30T00:00:00\", \"2020-07-31T00:00:00\", \"2020-08-01T00:00:00\", \"2020-08-02T00:00:00\", \"2020-08-03T00:00:00\", \"2020-08-04T00:00:00\", \"2020-08-05T00:00:00\", \"2020-08-06T00:00:00\", \"2020-08-07T00:00:00\", \"2020-08-08T00:00:00\", \"2020-08-09T00:00:00\", \"2020-08-10T00:00:00\", \"2020-08-11T00:00:00\", \"2020-08-12T00:00:00\", \"2020-08-13T00:00:00\", \"2020-08-14T00:00:00\", \"2020-08-15T00:00:00\", \"2020-08-16T00:00:00\", \"2020-08-17T00:00:00\", \"2020-08-18T00:00:00\", \"2020-08-19T00:00:00\", \"2020-08-20T00:00:00\", \"2020-08-21T00:00:00\", \"2020-08-22T00:00:00\", \"2020-08-23T00:00:00\", \"2020-08-24T00:00:00\", \"2020-08-25T00:00:00\", \"2020-08-26T00:00:00\", \"2020-08-27T00:00:00\", \"2020-08-28T00:00:00\", \"2020-08-29T00:00:00\", \"2020-08-30T00:00:00\", \"2020-08-31T00:00:00\", \"2020-09-01T00:00:00\", \"2020-09-02T00:00:00\", \"2020-09-03T00:00:00\", \"2020-09-04T00:00:00\", \"2020-09-05T00:00:00\", \"2020-09-06T00:00:00\", \"2020-09-07T00:00:00\", \"2020-09-08T00:00:00\", \"2020-09-09T00:00:00\", \"2020-09-10T00:00:00\", \"2020-09-11T00:00:00\", \"2020-09-12T00:00:00\", \"2020-09-13T00:00:00\", \"2020-09-14T00:00:00\", \"2020-09-15T00:00:00\", \"2020-09-16T00:00:00\", \"2020-09-17T00:00:00\", \"2020-09-18T00:00:00\", \"2020-09-19T00:00:00\", \"2020-09-20T00:00:00\", \"2020-09-21T00:00:00\", \"2020-09-22T00:00:00\", \"2020-09-23T00:00:00\", \"2020-09-24T00:00:00\", \"2020-09-25T00:00:00\", \"2020-09-26T00:00:00\", \"2020-09-27T00:00:00\", \"2020-09-28T00:00:00\", \"2020-09-29T00:00:00\", \"2020-09-30T00:00:00\", \"2020-10-01T00:00:00\", \"2020-10-02T00:00:00\", \"2020-10-03T00:00:00\", \"2020-10-04T00:00:00\", \"2020-10-05T00:00:00\", \"2020-10-06T00:00:00\", \"2020-10-07T00:00:00\", \"2020-10-08T00:00:00\", \"2020-10-09T00:00:00\", \"2020-10-10T00:00:00\", \"2020-10-11T00:00:00\", \"2020-10-12T00:00:00\", \"2020-10-13T00:00:00\", \"2020-10-14T00:00:00\", \"2020-10-15T00:00:00\", \"2020-10-16T00:00:00\", \"2020-10-17T00:00:00\", \"2020-10-18T00:00:00\", \"2020-10-19T00:00:00\", \"2020-10-20T00:00:00\", \"2020-10-21T00:00:00\", \"2020-10-22T00:00:00\", \"2020-10-23T00:00:00\", \"2020-10-24T00:00:00\", \"2020-10-25T00:00:00\", \"2020-10-26T00:00:00\", \"2020-10-27T00:00:00\", \"2020-10-28T00:00:00\", \"2020-10-29T00:00:00\", \"2020-10-30T00:00:00\", \"2020-10-31T00:00:00\", \"2020-11-01T00:00:00\", \"2020-11-02T00:00:00\", \"2020-11-03T00:00:00\", \"2020-11-04T00:00:00\", \"2020-11-05T00:00:00\", \"2020-11-06T00:00:00\", \"2020-11-07T00:00:00\", \"2020-11-08T00:00:00\", \"2020-11-09T00:00:00\", \"2020-11-10T00:00:00\", \"2020-11-11T00:00:00\", \"2020-11-12T00:00:00\", \"2020-11-13T00:00:00\", \"2020-11-14T00:00:00\", \"2020-11-15T00:00:00\", \"2020-11-16T00:00:00\", \"2020-11-17T00:00:00\", \"2020-11-18T00:00:00\", \"2020-11-19T00:00:00\", \"2020-11-20T00:00:00\", \"2020-11-21T00:00:00\", \"2020-11-22T00:00:00\", \"2020-11-23T00:00:00\", \"2020-11-24T00:00:00\", \"2020-11-25T00:00:00\", \"2020-11-26T00:00:00\", \"2020-11-27T00:00:00\", \"2020-11-28T00:00:00\", \"2020-11-29T00:00:00\", \"2020-11-30T00:00:00\", \"2020-12-01T00:00:00\", \"2020-12-02T00:00:00\", \"2020-12-03T00:00:00\", \"2020-12-04T00:00:00\", \"2020-12-05T00:00:00\", \"2020-12-06T00:00:00\", \"2020-12-07T00:00:00\", \"2020-12-08T00:00:00\", \"2020-12-09T00:00:00\", \"2020-12-10T00:00:00\", \"2020-12-11T00:00:00\", \"2020-12-12T00:00:00\", \"2020-12-13T00:00:00\", \"2020-12-14T00:00:00\", \"2020-12-15T00:00:00\", \"2020-12-16T00:00:00\", \"2020-12-17T00:00:00\", \"2020-12-18T00:00:00\", \"2020-12-19T00:00:00\", \"2020-12-20T00:00:00\", \"2020-12-21T00:00:00\", \"2020-12-22T00:00:00\", \"2020-12-23T00:00:00\", \"2020-12-24T00:00:00\", \"2020-12-25T00:00:00\", \"2020-12-26T00:00:00\", \"2020-12-27T00:00:00\", \"2020-12-28T00:00:00\", \"2020-12-29T00:00:00\", \"2020-12-30T00:00:00\", \"2020-12-31T00:00:00\", \"2021-01-01T00:00:00\", \"2021-01-02T00:00:00\", \"2021-01-03T00:00:00\", \"2021-01-04T00:00:00\", \"2021-01-05T00:00:00\", \"2021-01-06T00:00:00\", \"2021-01-07T00:00:00\", \"2021-01-08T00:00:00\", \"2021-01-09T00:00:00\", \"2021-01-10T00:00:00\", \"2021-01-11T00:00:00\", \"2021-01-12T00:00:00\", \"2021-01-13T00:00:00\", \"2021-01-14T00:00:00\", \"2021-01-15T00:00:00\", \"2021-01-16T00:00:00\", \"2021-01-17T00:00:00\", \"2021-01-18T00:00:00\", \"2021-01-19T00:00:00\", \"2021-01-20T00:00:00\", \"2021-01-21T00:00:00\", \"2021-01-22T00:00:00\", \"2021-01-23T00:00:00\", \"2021-01-24T00:00:00\", \"2021-01-25T00:00:00\", \"2021-01-26T00:00:00\", \"2021-01-27T00:00:00\", \"2021-01-28T00:00:00\", \"2021-01-29T00:00:00\", \"2021-01-30T00:00:00\", \"2021-01-31T00:00:00\", \"2021-02-01T00:00:00\", \"2021-02-02T00:00:00\", \"2021-02-03T00:00:00\", \"2021-02-04T00:00:00\", \"2021-02-05T00:00:00\", \"2021-02-06T00:00:00\", \"2021-02-07T00:00:00\", \"2021-02-08T00:00:00\", \"2021-02-09T00:00:00\", \"2021-02-10T00:00:00\", \"2021-02-11T00:00:00\", \"2021-02-12T00:00:00\", \"2021-02-13T00:00:00\", \"2021-02-14T00:00:00\", \"2021-02-15T00:00:00\", \"2021-02-16T00:00:00\", \"2021-02-17T00:00:00\", \"2021-02-18T00:00:00\", \"2021-02-19T00:00:00\", \"2021-02-20T00:00:00\", \"2021-02-21T00:00:00\", \"2021-02-22T00:00:00\", \"2021-02-23T00:00:00\", \"2021-02-24T00:00:00\", \"2021-02-25T00:00:00\", \"2021-02-26T00:00:00\", \"2021-02-27T00:00:00\", \"2021-02-28T00:00:00\", \"2021-03-01T00:00:00\", \"2021-03-02T00:00:00\", \"2021-03-03T00:00:00\", \"2021-03-04T00:00:00\", \"2021-03-05T00:00:00\", \"2021-03-06T00:00:00\", \"2021-03-07T00:00:00\", \"2021-03-08T00:00:00\", \"2021-03-09T00:00:00\", \"2021-03-10T00:00:00\", \"2021-03-11T00:00:00\", \"2021-03-12T00:00:00\", \"2021-03-13T00:00:00\", \"2021-03-14T00:00:00\", \"2021-03-15T00:00:00\", \"2021-03-16T00:00:00\", \"2021-03-17T00:00:00\", \"2021-03-18T00:00:00\", \"2021-03-19T00:00:00\", \"2021-03-20T00:00:00\", \"2021-03-21T00:00:00\", \"2021-03-22T00:00:00\", \"2021-03-23T00:00:00\", \"2021-03-24T00:00:00\", \"2021-03-25T00:00:00\", \"2021-03-26T00:00:00\", \"2021-03-27T00:00:00\", \"2021-03-28T00:00:00\", \"2021-03-29T00:00:00\", \"2021-03-30T00:00:00\", \"2021-03-31T00:00:00\", \"2021-04-01T00:00:00\", \"2021-04-02T00:00:00\", \"2021-04-03T00:00:00\", \"2021-04-04T00:00:00\", \"2021-04-05T00:00:00\", \"2021-04-06T00:00:00\", \"2021-04-07T00:00:00\", \"2021-04-08T00:00:00\", \"2021-04-09T00:00:00\", \"2021-04-10T00:00:00\", \"2021-04-11T00:00:00\", \"2021-04-12T00:00:00\", \"2021-04-13T00:00:00\", \"2021-04-14T00:00:00\", \"2021-04-15T00:00:00\", \"2021-04-16T00:00:00\", \"2021-04-17T00:00:00\", \"2021-04-18T00:00:00\", \"2021-04-19T00:00:00\", \"2021-04-20T00:00:00\", \"2021-04-21T00:00:00\", \"2021-04-22T00:00:00\", \"2021-04-23T00:00:00\", \"2021-04-24T00:00:00\", \"2021-04-25T00:00:00\", \"2021-04-26T00:00:00\", \"2021-04-27T00:00:00\", \"2021-04-28T00:00:00\", \"2021-04-29T00:00:00\", \"2021-04-30T00:00:00\", \"2021-05-01T00:00:00\", \"2021-05-02T00:00:00\", \"2021-05-03T00:00:00\", \"2021-05-04T00:00:00\", \"2021-05-05T00:00:00\", \"2021-05-06T00:00:00\", \"2021-05-07T00:00:00\", \"2021-05-08T00:00:00\", \"2021-05-09T00:00:00\", \"2021-05-10T00:00:00\", \"2021-05-11T00:00:00\", \"2021-05-12T00:00:00\", \"2021-05-13T00:00:00\", \"2021-05-14T00:00:00\", \"2021-05-15T00:00:00\", \"2021-05-16T00:00:00\", \"2021-05-17T00:00:00\", \"2021-05-18T00:00:00\", \"2021-05-19T00:00:00\", \"2021-05-20T00:00:00\", \"2021-05-21T00:00:00\", \"2021-05-22T00:00:00\", \"2021-05-23T00:00:00\", \"2021-05-24T00:00:00\", \"2021-05-25T00:00:00\", \"2021-05-26T00:00:00\", \"2021-05-27T00:00:00\", \"2021-05-28T00:00:00\", \"2021-05-29T00:00:00\", \"2021-05-30T00:00:00\", \"2021-05-31T00:00:00\", \"2021-06-01T00:00:00\", \"2021-06-02T00:00:00\", \"2021-06-03T00:00:00\", \"2021-06-04T00:00:00\", \"2021-06-05T00:00:00\", \"2021-06-06T00:00:00\", \"2021-06-07T00:00:00\", \"2021-06-08T00:00:00\", \"2021-06-09T00:00:00\", \"2021-06-10T00:00:00\", \"2021-06-11T00:00:00\", \"2021-06-12T00:00:00\", \"2021-06-13T00:00:00\", \"2021-06-14T00:00:00\", \"2021-06-15T00:00:00\", \"2021-06-16T00:00:00\", \"2021-06-17T00:00:00\", \"2021-06-18T00:00:00\", \"2021-06-19T00:00:00\", \"2021-06-20T00:00:00\", \"2021-06-21T00:00:00\", \"2021-06-22T00:00:00\", \"2021-06-23T00:00:00\", \"2021-06-24T00:00:00\", \"2021-06-25T00:00:00\", \"2021-06-26T00:00:00\", \"2021-06-27T00:00:00\", \"2021-06-28T00:00:00\", \"2021-06-29T00:00:00\", \"2021-06-30T00:00:00\"], \"y\": [2.9828693657862093, 3.900197102023364, 4.330233427771033, 4.017359552664846, 3.1539925490322354, 2.2623010343891377, 1.8784137380813681, 2.2300905982526404, 3.1016346316880012, 3.9661420622861785, 4.3040310392704235, 3.9152999212865978, 3.0378651287263043, 2.2019882493723157, 1.9098397669330298, 2.3338279975977727, 3.214906315187962, 4.020808690425447, 4.267578505072313, 3.8101732760432365, 2.927655134952417, 2.152967855880919, 1.9511141706688195, 2.4400587397964393, 3.321860822090418, 4.064196351993085, 4.221693701731487, 3.703119605444293, 2.824137573101856, 2.115186191520174, 2.0013917371597314, 2.5476587341867463, 3.4217724689265845, 4.096411613643036, 4.1672465081718695, 3.595244768922944, 2.7279882072778214, 2.088485272784105, 2.0597805866830377, 2.6555425878012353, 3.514015874447399, 4.11766229928643, 4.105148148048778, 3.48761155897966, 2.639781704338642, 2.0726090949798155, 2.1253527932100726, 2.7626721385957067, 3.598067288043203, 4.128250857524854, 4.036340629508454, 3.381231583686561, 2.5599908239337408, 2.0672105737450948, 2.1971548596235957, 2.868064147364292, 3.6735048913691255, 4.128567135065136, 3.9617863782072016, 3.2770580089476864, 2.488986614112841, 2.071859032688221, 2.2742179540492304, 2.9707971139532234, 3.7400081175427378, 4.11908065210699, 3.882458153206504, 3.175979189928893, 2.4270395643933447, 2.086048140881312, 2.3555678210248656, 3.070017193288454, 3.7973560395746473, 4.1003324760115305, 3.7993293285502285, 3.078813211269213, 2.374321661286384, 2.1092042040924497, 2.440234288290291, 3.1649431964120764, 3.845424886160388, 4.0729267889455585, 3.7133646160462663, 2.986303346148193, 2.330909285236946, 2.140694714701892, 2.527260297465711, 3.25487067109766, 3.8841847485797443, 4.037522243702329, 3.62551129710862, 2.8991144350894, 2.2967868827464795, 2.179837067162235, 2.6157103947114737, 3.3391750656102936, 3.913695547203496, 3.9948231995791468, 3.536691023557563, 2.817830176600524, 2.271851343127266, 2.2259073485737706, 2.704678625532214, 3.4173139877248255, 3.934102329991569, 3.9455709271051487, 3.447792239113931, 2.742951313449697, 2.255917005887912, 2.2781491173924073, 2.7932957861190038, 3.488828579155495, 3.945629978384375, 3.8905348666242348, 3.359663265046012, 2.674894690612579, 2.248721222161051, 2.335782087401356, 2.8807359919270343, 3.553344033028333, 3.94857739815153, 3.830504021316131, 3.2731060851176568, 2.6139931537446217, 2.249930391843001, 2.3980106387900024, 2.966222532481897, 3.610569288899419, 3.9433112740880505, 3.766278560254278, 3.188870856724686, 2.560496250479039, 2.259146397198177, 2.4640320834214138, 3.0490329896160415, 3.660295946049845, 3.930259467963493, 3.6986617016259893, 3.1076511669696725, 2.51457169095675, 2.2759133535591776, 2.5330446170598244, 3.1285036043845627, 3.702396441342498, 3.909904138866632, 3.628451940352445, 3.030080044484329, 2.476307518785759, 2.2997245983914976, 2.6042548973964754, 3.2040328857269675, 3.736821542784722, 3.8827746640854857, 3.55643567811871, 2.9567267301304483, 2.445714939121863, 2.3300298413484843, 2.676885193081265, 3.275084461465426, 3.763597214090397, 3.849440436963318, 3.483380307331781, 2.888094202355494, 2.422731746770879, 2.3662423999716875, 2.7501800555643823, 3.3411891794020847, 3.782820908968224, 3.810503615824026, 3.4100277938417163, 2.8246174460026037, 2.4072262941377733, 2.4077464483438047, 2.8234124723033296, 3.4019464730464417, 3.7946573565802137, 3.7665918951168726, 3.3370887964592066, 2.7666624468256753, 2.3990019364865454, 2.4539042092222294, 2.895889466725241, 3.4570250128228155, 3.799333901622867, 3.7183513664465333, 3.265237354452846, 2.7145258878811296, 2.397801890316028, 2.5040630239139827, 2.966957117183345, 3.5061626694381154, 3.797135463796614, 3.6664395331877095, 3.195106167378023, 2.668435518394839, 2.403314439684298, 2.5575622383384835, 3.036004973944106, 3.549165821398661, 3.7883991820664358, 3.6115185379940193, 3.1272824848408662, 2.6285511606653915, 2.4151784250059416, 2.6137398483026577, 3.102469859925782, 3.58590804342516, 3.773508809103142, 3.55424865775975, 3.062304617195364, 2.594966316086452, 2.432988949174253, 2.671938851921724, 3.165839047421526, 3.6163282167071302, 3.7528889206606, 3.4952821155420115, 3.000659071765801, 2.5677103274684177, 2.456303236792248, 2.7315132622967226, 3.2256528093267742, 3.640428105548419, 3.726999003423961, 3.435257253661768, 2.942778313031722, 2.5467510515233345, 2.4846465837954996, 2.7918337389449706, 3.2815063494021963, 3.658269447976395, 3.6963274830960535, 3.3747931067362638, 2.8890391393556634, 2.531997992651797, 2.517518336775882, 2.8522928020113967, 3.3330511217953616, 3.669970610317311, 3.661385752215674, 3.314484407812634, 2.8397616633168843, 2.523305847034885, 2.554397843824884, 2.912309598907794, 3.3799955553772865, 3.675702857583425, 3.6227022544673506, 3.2548970551313743, 2.795208877573973, 2.5204784044814024, 2.594750321662112, 2.9713341986760695, 3.4221052033897785, 3.6756862927830376, 3.5808166790944207, 3.1965640614051516, 2.755586783447108, 2.5232727544985534, 2.6380325871508297, 3.028851394995485, 3.4592023434174113, 3.6701855189674273, 3.536274315514942, 3.1399820019068994, 2.7210450551130787, 2.531403742626029, 2.683698604978328, 3.0843840043004107, 3.491165056770227, 3.6595050779876552, 3.48962061441308, 3.085607972171912, 2.6916782084636957, 2.5445486231775862, 2.7312048072438655, 3.137495650895029, 3.517925819971961, 3.6439847195732664, 3.4413959974882777, 3.0338570607794204, 2.667527240306665, 2.5623518551453457, 2.7800151449001143, 3.1877930361992255, 3.5394696441805356, 3.623994553490907, 3.392130953741247, 2.9851003375333476, 2.648581700697553, 2.5844299891110123, 2.8296058353844553, 3.2349276942934453, 3.5558318010150374, 3.5999301362250398, 3.342341455710855, 2.9396633524500704, 2.6347821587876785, 2.6103765945425965, 2.8794697753037277, 3.2785972407117105, 3.5670951754235443, 3.572207541878756, 3.292524724498704, 2.8978251363185, 2.6260230206558295, 2.6397671788000943, 2.929120591651011, 3.3185461259274978, 3.5733872879007866, 3.541258464856479, 3.243155367777595, 2.859817689256772, 2.6221556561577404, 2.6721640514914897, 2.978096309687604, 3.3545659091570426, 3.5748770295602457, 3.507525399400561, 3.1946819103229513, 2.8258259396773515, 2.6229917908673723, 2.7071210904722007, 3.025962620271678, 3.3864950719438456, 3.5717711542925072, 3.471456938250174, 3.1475237319777647, 2.7959881524116557, 2.6283071186857905, 2.7441883687261983, 3.072315734013156, 3.414218394465767, 3.5643105725151654, 3.433503229614665, 3.1020684234043308, 2.7703967614548666, 2.637845090640177, 2.7829166045639693, 3.11678481414087, 3.4376659206057814, 3.5527664908575924, 3.394111628346408, 3.0586695655300264, 2.749099599885706, 2.6513208357673275, 2.8228614009792965, 3.159033984344319, 3.4568115405371116, 3.537436441548022, 3.3537225737022, 3.0176449342967033, 2.732101497004479, 2.668425170749778, 2.863587243581496, 3.1987639120628613, 3.471671221885275, 3.5186402443051135, 3.312765722439339, 2.979275128208072, 2.7193662106214593, 2.688828656122697, 2.9046712302206106, 3.2357129717074664, 3.482300922439867]}],                        {\"template\": {\"data\": {\"bar\": [{\"error_x\": {\"color\": \"#2a3f5f\"}, \"error_y\": {\"color\": \"#2a3f5f\"}, \"marker\": {\"line\": {\"color\": \"#E5ECF6\", \"width\": 0.5}}, \"type\": \"bar\"}], \"barpolar\": [{\"marker\": {\"line\": {\"color\": \"#E5ECF6\", \"width\": 0.5}}, \"type\": \"barpolar\"}], \"carpet\": [{\"aaxis\": {\"endlinecolor\": \"#2a3f5f\", \"gridcolor\": \"white\", \"linecolor\": \"white\", \"minorgridcolor\": \"white\", \"startlinecolor\": \"#2a3f5f\"}, \"baxis\": {\"endlinecolor\": \"#2a3f5f\", \"gridcolor\": \"white\", \"linecolor\": \"white\", \"minorgridcolor\": \"white\", \"startlinecolor\": \"#2a3f5f\"}, \"type\": \"carpet\"}], \"choropleth\": [{\"colorbar\": {\"outlinewidth\": 0, \"ticks\": \"\"}, \"type\": \"choropleth\"}], \"contour\": [{\"colorbar\": {\"outlinewidth\": 0, \"ticks\": \"\"}, \"colorscale\": [[0.0, \"#0d0887\"], [0.1111111111111111, \"#46039f\"], [0.2222222222222222, \"#7201a8\"], [0.3333333333333333, \"#9c179e\"], [0.4444444444444444, \"#bd3786\"], [0.5555555555555556, \"#d8576b\"], [0.6666666666666666, \"#ed7953\"], [0.7777777777777778, \"#fb9f3a\"], [0.8888888888888888, \"#fdca26\"], [1.0, \"#f0f921\"]], \"type\": \"contour\"}], \"contourcarpet\": [{\"colorbar\": {\"outlinewidth\": 0, \"ticks\": \"\"}, \"type\": \"contourcarpet\"}], \"heatmap\": [{\"colorbar\": {\"outlinewidth\": 0, \"ticks\": \"\"}, \"colorscale\": [[0.0, \"#0d0887\"], [0.1111111111111111, \"#46039f\"], [0.2222222222222222, \"#7201a8\"], [0.3333333333333333, \"#9c179e\"], [0.4444444444444444, \"#bd3786\"], [0.5555555555555556, \"#d8576b\"], [0.6666666666666666, \"#ed7953\"], [0.7777777777777778, \"#fb9f3a\"], [0.8888888888888888, \"#fdca26\"], [1.0, \"#f0f921\"]], \"type\": \"heatmap\"}], \"heatmapgl\": [{\"colorbar\": {\"outlinewidth\": 0, \"ticks\": \"\"}, \"colorscale\": [[0.0, \"#0d0887\"], [0.1111111111111111, \"#46039f\"], [0.2222222222222222, \"#7201a8\"], [0.3333333333333333, \"#9c179e\"], [0.4444444444444444, \"#bd3786\"], [0.5555555555555556, \"#d8576b\"], [0.6666666666666666, \"#ed7953\"], [0.7777777777777778, \"#fb9f3a\"], [0.8888888888888888, \"#fdca26\"], [1.0, \"#f0f921\"]], \"type\": \"heatmapgl\"}], \"histogram\": [{\"marker\": {\"colorbar\": {\"outlinewidth\": 0, \"ticks\": \"\"}}, \"type\": \"histogram\"}], \"histogram2d\": [{\"colorbar\": {\"outlinewidth\": 0, \"ticks\": \"\"}, \"colorscale\": [[0.0, \"#0d0887\"], [0.1111111111111111, \"#46039f\"], [0.2222222222222222, \"#7201a8\"], [0.3333333333333333, \"#9c179e\"], [0.4444444444444444, \"#bd3786\"], [0.5555555555555556, \"#d8576b\"], [0.6666666666666666, \"#ed7953\"], [0.7777777777777778, \"#fb9f3a\"], [0.8888888888888888, \"#fdca26\"], [1.0, \"#f0f921\"]], \"type\": \"histogram2d\"}], \"histogram2dcontour\": [{\"colorbar\": {\"outlinewidth\": 0, \"ticks\": \"\"}, \"colorscale\": [[0.0, \"#0d0887\"], [0.1111111111111111, \"#46039f\"], [0.2222222222222222, \"#7201a8\"], [0.3333333333333333, \"#9c179e\"], [0.4444444444444444, \"#bd3786\"], [0.5555555555555556, \"#d8576b\"], [0.6666666666666666, \"#ed7953\"], [0.7777777777777778, \"#fb9f3a\"], [0.8888888888888888, \"#fdca26\"], [1.0, \"#f0f921\"]], \"type\": \"histogram2dcontour\"}], \"mesh3d\": [{\"colorbar\": {\"outlinewidth\": 0, \"ticks\": \"\"}, \"type\": \"mesh3d\"}], \"parcoords\": [{\"line\": {\"colorbar\": {\"outlinewidth\": 0, \"ticks\": \"\"}}, \"type\": \"parcoords\"}], \"pie\": [{\"automargin\": true, \"type\": \"pie\"}], \"scatter\": [{\"marker\": {\"colorbar\": {\"outlinewidth\": 0, \"ticks\": \"\"}}, \"type\": \"scatter\"}], \"scatter3d\": [{\"line\": {\"colorbar\": {\"outlinewidth\": 0, \"ticks\": \"\"}}, \"marker\": {\"colorbar\": {\"outlinewidth\": 0, \"ticks\": \"\"}}, \"type\": \"scatter3d\"}], \"scattercarpet\": [{\"marker\": {\"colorbar\": {\"outlinewidth\": 0, \"ticks\": \"\"}}, \"type\": \"scattercarpet\"}], \"scattergeo\": [{\"marker\": {\"colorbar\": {\"outlinewidth\": 0, \"ticks\": \"\"}}, \"type\": \"scattergeo\"}], \"scattergl\": [{\"marker\": {\"colorbar\": {\"outlinewidth\": 0, \"ticks\": \"\"}}, \"type\": \"scattergl\"}], \"scattermapbox\": [{\"marker\": {\"colorbar\": {\"outlinewidth\": 0, \"ticks\": \"\"}}, \"type\": \"scattermapbox\"}], \"scatterpolar\": [{\"marker\": {\"colorbar\": {\"outlinewidth\": 0, \"ticks\": \"\"}}, \"type\": \"scatterpolar\"}], \"scatterpolargl\": [{\"marker\": {\"colorbar\": {\"outlinewidth\": 0, \"ticks\": \"\"}}, \"type\": \"scatterpolargl\"}], \"scatterternary\": [{\"marker\": {\"colorbar\": {\"outlinewidth\": 0, \"ticks\": \"\"}}, \"type\": \"scatterternary\"}], \"surface\": [{\"colorbar\": {\"outlinewidth\": 0, \"ticks\": \"\"}, \"colorscale\": [[0.0, \"#0d0887\"], [0.1111111111111111, \"#46039f\"], [0.2222222222222222, \"#7201a8\"], [0.3333333333333333, \"#9c179e\"], [0.4444444444444444, \"#bd3786\"], [0.5555555555555556, \"#d8576b\"], [0.6666666666666666, \"#ed7953\"], [0.7777777777777778, \"#fb9f3a\"], [0.8888888888888888, \"#fdca26\"], [1.0, \"#f0f921\"]], \"type\": \"surface\"}], \"table\": [{\"cells\": {\"fill\": {\"color\": \"#EBF0F8\"}, \"line\": {\"color\": \"white\"}}, \"header\": {\"fill\": {\"color\": \"#C8D4E3\"}, \"line\": {\"color\": \"white\"}}, \"type\": \"table\"}]}, \"layout\": {\"annotationdefaults\": {\"arrowcolor\": \"#2a3f5f\", \"arrowhead\": 0, \"arrowwidth\": 1}, \"coloraxis\": {\"colorbar\": {\"outlinewidth\": 0, \"ticks\": \"\"}}, \"colorscale\": {\"diverging\": [[0, \"#8e0152\"], [0.1, \"#c51b7d\"], [0.2, \"#de77ae\"], [0.3, \"#f1b6da\"], [0.4, \"#fde0ef\"], [0.5, \"#f7f7f7\"], [0.6, \"#e6f5d0\"], [0.7, \"#b8e186\"], [0.8, \"#7fbc41\"], [0.9, \"#4d9221\"], [1, \"#276419\"]], \"sequential\": [[0.0, \"#0d0887\"], [0.1111111111111111, \"#46039f\"], [0.2222222222222222, \"#7201a8\"], [0.3333333333333333, \"#9c179e\"], [0.4444444444444444, \"#bd3786\"], [0.5555555555555556, \"#d8576b\"], [0.6666666666666666, \"#ed7953\"], [0.7777777777777778, \"#fb9f3a\"], [0.8888888888888888, \"#fdca26\"], [1.0, \"#f0f921\"]], \"sequentialminus\": [[0.0, \"#0d0887\"], [0.1111111111111111, \"#46039f\"], [0.2222222222222222, \"#7201a8\"], [0.3333333333333333, \"#9c179e\"], [0.4444444444444444, \"#bd3786\"], [0.5555555555555556, \"#d8576b\"], [0.6666666666666666, \"#ed7953\"], [0.7777777777777778, \"#fb9f3a\"], [0.8888888888888888, \"#fdca26\"], [1.0, \"#f0f921\"]]}, \"colorway\": [\"#636efa\", \"#EF553B\", \"#00cc96\", \"#ab63fa\", \"#FFA15A\", \"#19d3f3\", \"#FF6692\", \"#B6E880\", \"#FF97FF\", \"#FECB52\"], \"font\": {\"color\": \"#2a3f5f\"}, \"geo\": {\"bgcolor\": \"white\", \"lakecolor\": \"white\", \"landcolor\": \"#E5ECF6\", \"showlakes\": true, \"showland\": true, \"subunitcolor\": \"white\"}, \"hoverlabel\": {\"align\": \"left\"}, \"hovermode\": \"closest\", \"mapbox\": {\"style\": \"light\"}, \"paper_bgcolor\": \"white\", \"plot_bgcolor\": \"#E5ECF6\", \"polar\": {\"angularaxis\": {\"gridcolor\": \"white\", \"linecolor\": \"white\", \"ticks\": \"\"}, \"bgcolor\": \"#E5ECF6\", \"radialaxis\": {\"gridcolor\": \"white\", \"linecolor\": \"white\", \"ticks\": \"\"}}, \"scene\": {\"xaxis\": {\"backgroundcolor\": \"#E5ECF6\", \"gridcolor\": \"white\", \"gridwidth\": 2, \"linecolor\": \"white\", \"showbackground\": true, \"ticks\": \"\", \"zerolinecolor\": \"white\"}, \"yaxis\": {\"backgroundcolor\": \"#E5ECF6\", \"gridcolor\": \"white\", \"gridwidth\": 2, \"linecolor\": \"white\", \"showbackground\": true, \"ticks\": \"\", \"zerolinecolor\": \"white\"}, \"zaxis\": {\"backgroundcolor\": \"#E5ECF6\", \"gridcolor\": \"white\", \"gridwidth\": 2, \"linecolor\": \"white\", \"showbackground\": true, \"ticks\": \"\", \"zerolinecolor\": \"white\"}}, \"shapedefaults\": {\"line\": {\"color\": \"#2a3f5f\"}}, \"ternary\": {\"aaxis\": {\"gridcolor\": \"white\", \"linecolor\": \"white\", \"ticks\": \"\"}, \"baxis\": {\"gridcolor\": \"white\", \"linecolor\": \"white\", \"ticks\": \"\"}, \"bgcolor\": \"#E5ECF6\", \"caxis\": {\"gridcolor\": \"white\", \"linecolor\": \"white\", \"ticks\": \"\"}}, \"title\": {\"x\": 0.05}, \"xaxis\": {\"automargin\": true, \"gridcolor\": \"white\", \"linecolor\": \"white\", \"ticks\": \"\", \"title\": {\"standoff\": 15}, \"zerolinecolor\": \"white\", \"zerolinewidth\": 2}, \"yaxis\": {\"automargin\": true, \"gridcolor\": \"white\", \"linecolor\": \"white\", \"ticks\": \"\", \"title\": {\"standoff\": 15}, \"zerolinecolor\": \"white\", \"zerolinewidth\": 2}}}, \"title\": {\"text\": \"Economia Brasileira em 2021\"}},                        {\"responsive\": true}                    ).then(function(){\n",
       "                            \n",
       "var gd = document.getElementById('591c2320-06e1-486a-9dd9-5c2a3c2a3846');\n",
       "var x = new MutationObserver(function (mutations, observer) {{\n",
       "        var display = window.getComputedStyle(gd).display;\n",
       "        if (!display || display === 'none') {{\n",
       "            console.log([gd, 'removed!']);\n",
       "            Plotly.purge(gd);\n",
       "            observer.disconnect();\n",
       "        }}\n",
       "}});\n",
       "\n",
       "// Listen for the removal of the full notebook cells\n",
       "var notebookContainer = gd.closest('#notebook-container');\n",
       "if (notebookContainer) {{\n",
       "    x.observe(notebookContainer, {childList: true});\n",
       "}}\n",
       "\n",
       "// Listen for the clearing of the current output cell\n",
       "var outputEl = gd.closest('.output');\n",
       "if (outputEl) {{\n",
       "    x.observe(outputEl, {childList: true});\n",
       "}}\n",
       "\n",
       "                        })                };                });            </script>        </div>"
      ]
     },
     "metadata": {},
     "output_type": "display_data"
    }
   ],
   "source": [
    "fig = go.Figure(go.Scatter(x = pd.date_range('2020-07-01', '2021-06-30'), y = previsao_selic, name = 'Previsão da Meta para a Taxa Selic'))\n",
    "fig.add_trace(go.Scatter(x = pd.date_range('2020-07-01', '2021-06-30'), y = previsao_ipca, name = 'Previsão para o IPCA'))\n",
    "fig.update_layout(title = 'Economia Brasileira em 2021')\n",
    "fig.show()"
   ]
  }
 ],
 "metadata": {
  "kernelspec": {
   "display_name": "Python 3",
   "language": "python",
   "name": "python3"
  },
  "language_info": {
   "codemirror_mode": {
    "name": "ipython",
    "version": 3
   },
   "file_extension": ".py",
   "mimetype": "text/x-python",
   "name": "python",
   "nbconvert_exporter": "python",
   "pygments_lexer": "ipython3",
   "version": "3.7.6"
  },
  "papermill": {
   "duration": 47.429844,
   "end_time": "2020-10-02T01:09:12.506728",
   "environment_variables": {},
   "exception": null,
   "input_path": "__notebook__.ipynb",
   "output_path": "__notebook__.ipynb",
   "parameters": {},
   "start_time": "2020-10-02T01:08:25.076884",
   "version": "2.1.0"
  }
 },
 "nbformat": 4,
 "nbformat_minor": 4
}
